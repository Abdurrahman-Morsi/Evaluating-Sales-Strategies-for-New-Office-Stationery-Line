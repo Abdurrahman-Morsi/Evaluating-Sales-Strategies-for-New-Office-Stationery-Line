{
 "cells": [
  {
   "cell_type": "markdown",
   "id": "b5383b34-26c8-419c-8e73-1dc6781d2113",
   "metadata": {
    "jp-MarkdownHeadingCollapsed": true
   },
   "source": [
    "# About Pens and Printers"
   ]
  },
  {
   "cell_type": "markdown",
   "id": "a3d4387f-fa24-4a80-906b-4cca195b6736",
   "metadata": {},
   "source": [
    "## Pens and Printers\n",
    "- Pens and Printers was founded in 1984 and provides high quality office products to large organizations. We are a trusted provider of everything from pens and notebooks to desk chairs and monitors. We don’t produce our own products but sell those made by other companies.\n",
    "- We have built long lasting relationships with our customers and they trust us to provide them with the best products for them. As the way in which consumers buy products is changing, our sales tactics have to change too. Launching a new product line is expensive and we need to make sure we are using the best techniques to sell the new product effectively. The best approach may vary for each new product so we need to learn quickly what works and what doesn’t.\n",
    "\n",
    "## New Product Sales Methods \n",
    "- Six weeks ago we launched a new line of office stationery. Despite the world becoming increasingly digital, there is still demand for notebooks, pens and sticky notes. \n",
    "- Our focus has been on selling products to enable our customers to be more creative, focused on tools for brainstorming. We have tested three different sales strategies for this, targeted email and phone calls, as well as combining the two.\n",
    "- Email: Customers in this group received an email when the product line was launched, and a further email three weeks later. This required very little work for the team.\n",
    "- Call: Customers in this group were called by a member of the sales team. On average members of the team were on the phone for around thirty minutes per customer.\n",
    "- Email and call: Customers in this group were first sent the product information email, then called a week later by the sales team to talk about their needs and how this new product may support their work. The email required little work from the team, the call was around ten minutes per customer."
   ]
  },
  {
   "cell_type": "markdown",
   "id": "510bdb41-9bc1-4249-9cbe-c69803c93998",
   "metadata": {
    "jp-MarkdownHeadingCollapsed": true
   },
   "source": [
    "# Requirements"
   ]
  },
  {
   "cell_type": "markdown",
   "id": "a15fae5a-2dbc-4934-aa0c-8d0939b450ce",
   "metadata": {},
   "source": [
    "## Guide to Analysis Projects\n",
    "1. I would like you to create a written report to summarize the analysis you have\n",
    "performed and your findings. The report will be read by me (Head of Analysis). The list\n",
    "below describes what I expect to see in your written report.\n",
    "1. You will need to use a DataLab workbook to write up your findings and share visualizations.\n",
    "1. You must use the data provided for the analysis.\n",
    "1. You will also need to prepare and deliver a presentation. You should prepare around 8-10 slides to present to the sales rep. The list below describes what they expect to see in your presentation.\n",
    "1. Your presentation should be no longer than 10 minutes. \n",
    "## Written Report \n",
    "Your written report should include written text summaries and graphics of the following:\n",
    "1. Data validation:\n",
    "    - Describe validation and cleaning steps for every column in the data\n",
    "1. Exploratory Analysis to answer the customer questions ensuring you include:\n",
    "    - Two different types of graphic showing single variables only\n",
    "    - At least one graphic showing two or more variables\n",
    "    - Description of your findings\n",
    "1. Definition of a metric for the business to monitor\n",
    "    - How should the business monitor what they want to achieve?\n",
    "    - Estimate the initial value(s) for the metric based on the current data?\n",
    "1. Final summary including recommendations that the business should undertake\n",
    "## Presentation\n",
    "You will give an overview presentation to the sales rep who requested the work. The\n",
    "presentation should include:\n",
    "1. An overview of the project and business goals\n",
    "1. A summary of the work you undertook and how this addresses the problem\n",
    "1. Your key findings including the metric to monitor and current estimation\n",
    "1. Your recommendations to the business"
   ]
  },
  {
   "cell_type": "markdown",
   "id": "f5287d56-7afa-4e05-b3b1-1625df468d3e",
   "metadata": {},
   "source": [
    "# Technical report"
   ]
  },
  {
   "cell_type": "code",
   "execution_count": 1,
   "id": "69ca3167-0395-4ed5-9380-1a08d9276441",
   "metadata": {
    "collapsed": false,
    "executionCancelledAt": null,
    "executionTime": 3132,
    "jupyter": {
     "outputs_hidden": false,
     "source_hidden": false
    },
    "lastExecutedAt": 1724379372031,
    "lastExecutedByKernel": "3dab053c-f30f-4a60-b856-2703c0989243",
    "lastScheduledRunId": null,
    "lastSuccessfullyExecutedCode": "%%capture\n!pip install fancyimpute\nfrom fancyimpute import IterativeImputer\nimport matplotlib.pyplot  as plt\nfrom matplotlib.lines import Line2D\nimport numpy as np\nimport pandas as pd\nfrom scipy.stats import skew\nimport seaborn as sns\nfrom sklearn.preprocessing import LabelEncoder\nfrom uuid import UUID\nimport warnings\n\nwarnings.filterwarnings('ignore')"
   },
   "outputs": [],
   "source": [
    "%%capture\n",
    "!pip install fancyimpute\n",
    "from fancyimpute import IterativeImputer\n",
    "import matplotlib.pyplot  as plt\n",
    "from matplotlib.lines import Line2D\n",
    "import numpy as np\n",
    "import pandas as pd\n",
    "from scipy.stats import skew\n",
    "import seaborn as sns\n",
    "from sklearn.preprocessing import LabelEncoder\n",
    "from uuid import UUID\n",
    "import warnings\n",
    "\n",
    "warnings.filterwarnings('ignore')"
   ]
  },
  {
   "cell_type": "markdown",
   "id": "aff6c28b-5e78-4f1f-99b4-d24d18cb5160",
   "metadata": {
    "jp-MarkdownHeadingCollapsed": true
   },
   "source": [
    "## utility functions"
   ]
  },
  {
   "cell_type": "code",
   "execution_count": 2,
   "id": "e7965fb6-ac98-4587-98f2-9ac18adc346f",
   "metadata": {
    "collapsed": false,
    "executionCancelledAt": null,
    "executionTime": 77,
    "jupyter": {
     "outputs_hidden": false,
     "source_hidden": false
    },
    "lastExecutedAt": 1724379372109,
    "lastExecutedByKernel": "3dab053c-f30f-4a60-b856-2703c0989243",
    "lastScheduledRunId": null,
    "lastSuccessfullyExecutedCode": "## utility functions\ndef sep():\n    \"\"\"\"A utility function that prints a visual separator in the console to improve readability of outputs.\"\"\"\n    print(\"\\n\"+\"+\"+\"-\"*78+\"+\", sep=\"\\n\", end=\"\\n\\n\")\n\n## Define constants for validation\nFOUNDATION_YEAR = 1984\nYEAR_CONDUCTED = 2024\nVALID_METHODS = {\"Call\", \"Email + Call\", \"Email\"}\nVALID_STATES = {\"Alabama\", \"Alaska\", \"Arizona\", \"Arkansas\", \"California\", \"Colorado\", \"Connecticut\", \"Delaware\", \n                \"Florida\", \"Georgia\", \"Hawaii\", \"Idaho\", \"Illinois\", \"Indiana\", \"Iowa\", \"Kansas\", \"Kentucky\", \n                \"Louisiana\", \"Maine\", \"Maryland\", \"Massachusetts\", \"Michigan\", \"Minnesota\", \"Mississippi\", \n                \"Missouri\", \"Montana\", \"Nebraska\", \"Nevada\", \"New Hampshire\", \"New Jersey\", \"New Mexico\", \n                \"New York\", \"North Carolina\", \"North Dakota\", \"Ohio\", \"Oklahoma\", \"Oregon\", \"Pennsylvania\", \n                \"Rhode Island\", \"South Carolina\", \"South Dakota\", \"Tennessee\", \"Texas\", \"Utah\", \"Vermont\", \n                \"Virginia\", \"Washington\", \"West Virginia\", \"Wisconsin\", \"Wyoming\"}\n\n\ndef validation(df):\n    \"\"\"\n    Perform validation checks on the dataset.\n    This function ensures that columns have valid types, non-null values, \n    and contain valid data ranges. Additionally, categorical columns are \n    checked against a set of valid values.\n    \n    Args:\n    df (pandas.DataFrame): The dataset to validate.\n    \n    Raises:\n    AssertionError: If any validation check fails.\n    \"\"\"\n\n    ## Validate the 'week' column\n    week = df[\"week\"]\n    has_null(week) # Check for missing_values\n    valid_range(week, lower=1, upper=6) # Ensure week values are between 1 and 6\n    valid_type(week, np.int64) # Ensure the column type is integer\n\n    ##  # Validate the 'sales_method' column\n    sales_method = df[\"sales_method\"]\n    has_null(sales_method)\n    assert VALID_METHODS.issuperset(sales_method.unique()), \"`sales_method` column has invalid values\" # Validate sales_methods\n    valid_type(sales_method, np.object_)\n\n    ## Validate the 'customer_id' column\n    customer_id = df[\"customer_id\"]\n    has_null(customer_id)\n    valid_type(customer_id, np.object_)\n\n    ## Validate the 'nb_sold' column\n    nb_sold = df[\"nb_sold\"]\n    has_null(nb_sold)\n    valid_type(nb_sold, np.int64)\n    valid_range(nb_sold, lower=1)\n\n    revenue = df[\"revenue\"]\n    has_null(revenue)\n    valid_type(revenue, np.int64, np.float64)\n    valid_range(revenue, lower=1)\n\n    years_as_customer = df[\"years_as_customer\"]\n    has_null(years_as_customer)\n    valid_type(years_as_customer, np.int64)\n    valid_range(years_as_customer, 0, (YEAR_CONDUCTED - FOUNDATION_YEAR))\n\n    nb_site_visits = df[\"nb_site_visits\"]\n    has_null(nb_site_visits)\n    valid_type(nb_site_visits, np.int64)\n    valid_range(nb_site_visits, lower=0)\n\n    state = df[\"state\"]\n    has_null(state)\n    assert VALID_STATES.issuperset(state.unique()), \"`state` column has invalid values\"  # Validate state names\n    print(\"All tests were passed!.\")\n    \ndef has_null(s):\n    \"\"\"\n    Check if the Series contains any null values.\n    \n    Args:\n    s (pandas.Series): The series to check.\n    \n    Raises:\n    AssertionError: If the series contains any null values.\n    \"\"\"\n    has_null = s.isna().sum()\n    if s.isna().sum():\n        raise AssertionError(f\"`{s.name}` column has missing values\")\n\ndef valid_type(s, *types):\n    \"\"\"\n    Check if the Series is of a valid type.\n    \n    Args:\n    s (pandas.Series): The series to check.\n    *types (tuple): The valid data types for the series.\n    \n    Raises:\n    AssertionError: If the series type does not match any of the valid types.\n    \"\"\"\n    for type in types:\n        if s.dtypes == type:\n            return True\n    raise AssertionError(f\"`{s.name}` column is of type `{s.dtypes}`, expected `{types}`\")\n\ndef valid_range(s, lower=None, upper=None):\n    if not lower:\n        lower = s.min()\n    if not upper:\n        upper = s.max()\n    valid = (s.min() >= lower) & (s.max() <= upper) \n    assert valid, f\"Values in `{s.name}` column are out of range\"\n\ndef is_valid(df):\n    \"\"\"\n    Wrapper function to run validation and catch any assertion errors.\n    \n    Args:\n    df (pandas.DataFrame): The dataset to validate.\n    \n    Returns:\n    None\n    \"\"\"\n    try:\n        validation(df)\n    except AssertionError as e:\n        print(e)\n\ndef percent(s):\n    \"\"\"Calculate the percentage of non-null values in a Series.\"\"\"\n    return (s.mean() * 100).round(2)\n\ndef missing_records(s):\n    \"\"\"Count the number of missing records in a Series.\"\"\"\n    return s.sum()\n    \ndef check_nullity(df):\n    \"\"\"\n    Check and display nullity statistics for the dataframe.\n    \n    Args:\n    df (pandas.DataFrame): The dataset to check.\n    \n    Returns:\n    None\n    \"\"\"\n    nullity = df.isna()\n    no_zero = nullity.sum() != 0\n    return nullity.agg([missing_records, percent])\n    \ndef quantile(quantile):\n    def inner(col):\n        return col.quantile(quantile)\n    \n    inner.__name__ = \"{:.0%}\".format(quantile)\n    return inner\n    \nq1, q2, q3 = quantile(.25), quantile(.5), quantile(.75)\n\ndef iqr(col):\n    return q3(col) - q1(col)\n\ndef range_(col):\n    return col.agg([\"min\", \"max\"]).diff().iloc[1]\n\nrange_.__name__ = \"range\"\n\ndef skewness(col):\n    return skew(col.dropna())\n\ndef adjust_outlier(S):\n    s = S.copy()\n    IQR = iqr(s)\n    upper = q3(s) + 1.5 * IQR\n    lower = q1(s) - 1.5 * IQR\n    s[s > upper] = upper\n    s[s < lower] = lower\n    return s\n\n\ndef imputation(df, sub_cols):\n    \"\"\"\n    Perform data imputation on specified columns using Iterative Imputer.\n    Args:\n    df (pandas.DataFrame): The dataset to impute.\n    sub_cols (list): The subset of columns to impute.\n    \n    Returns:\n    imputed_df (pandas.DataFrame): The imputed dataframe.\n    \"\"\"\n    df_cp = df.copy() # Create a copy of the dataset\n    encoders = {} # Dictionary to store label encoders for categorical columns\n\n    ## Encode categorical columns before imputation\n    for col_name in sub_cols:\n        if col_name not in (\"revenue\", \"customer_id\"):\n            encoders[col_name] = LabelEncoder()\n            col = df_cp[col_name]\n            col = encoders[col_name].fit_transform(col.values)\n            df_cp[col_name] = col\n    \n    ## Apply Iterative Imputer\n    imputed_df = df_cp.copy()\n    imputed_df.loc[:, sub_cols] = IterativeImputer().fit_transform(imputed_df[sub_cols])\n\n    ## Decode categorical columns after imputation\n    for col_name in encoders:\n        if col_name != \"revenue\":\n            temp = encoders[col_name].inverse_transform(imputed_df[col_name].astype(int))\n            imputed_df[col_name] = temp\n    return imputed_df\n"
   },
   "outputs": [],
   "source": [
    "def sep():\n",
    "    \"\"\"\"A utility function that prints a visual separator in the console to improve readability of outputs.\"\"\"\n",
    "    print(\"\\n\"+\"+\"+\"-\"*78+\"+\", sep=\"\\n\", end=\"\\n\\n\")\n",
    "\n",
    "## Define constants for validation\n",
    "FOUNDATION_YEAR = 1984\n",
    "YEAR_CONDUCTED = 2024\n",
    "VALID_METHODS = {\"Call\", \"Email + Call\", \"Email\"}\n",
    "VALID_STATES = {\"Alabama\", \"Alaska\", \"Arizona\", \"Arkansas\", \"California\", \"Colorado\", \"Connecticut\", \"Delaware\", \n",
    "                \"Florida\", \"Georgia\", \"Hawaii\", \"Idaho\", \"Illinois\", \"Indiana\", \"Iowa\", \"Kansas\", \"Kentucky\", \n",
    "                \"Louisiana\", \"Maine\", \"Maryland\", \"Massachusetts\", \"Michigan\", \"Minnesota\", \"Mississippi\", \n",
    "                \"Missouri\", \"Montana\", \"Nebraska\", \"Nevada\", \"New Hampshire\", \"New Jersey\", \"New Mexico\", \n",
    "                \"New York\", \"North Carolina\", \"North Dakota\", \"Ohio\", \"Oklahoma\", \"Oregon\", \"Pennsylvania\", \n",
    "                \"Rhode Island\", \"South Carolina\", \"South Dakota\", \"Tennessee\", \"Texas\", \"Utah\", \"Vermont\", \n",
    "                \"Virginia\", \"Washington\", \"West Virginia\", \"Wisconsin\", \"Wyoming\"}\n",
    "\n",
    "\n",
    "def validation(df):\n",
    "    \"\"\"\n",
    "    Perform validation checks on the dataset.\n",
    "    This function ensures that columns have valid types, non-null values, \n",
    "    and contain valid data ranges. Additionally, categorical columns are \n",
    "    checked against a set of valid values.\n",
    "    \n",
    "    Args:\n",
    "    df (pandas.DataFrame): The dataset to validate.\n",
    "    \n",
    "    Raises:\n",
    "    AssertionError: If any validation check fails.\n",
    "    \"\"\"\n",
    "\n",
    "    ## Validate the 'week' column\n",
    "    week = df[\"week\"]\n",
    "    has_null(week) # Check for missing_values\n",
    "    valid_range(week, lower=1, upper=6) # Ensure week values are between 1 and 6\n",
    "    valid_type(week, np.int64) # Ensure the column type is integer\n",
    "\n",
    "    ##  # Validate the 'sales_method' column\n",
    "    sales_method = df[\"sales_method\"]\n",
    "    has_null(sales_method)\n",
    "    assert VALID_METHODS.issuperset(sales_method.unique()), \"`sales_method` column has invalid values\" # Validate sales_methods\n",
    "    valid_type(sales_method, np.object_)\n",
    "\n",
    "    ## Validate the 'customer_id' column\n",
    "    customer_id = df[\"customer_id\"]\n",
    "    has_null(customer_id)\n",
    "    valid_type(customer_id, np.object_)\n",
    "\n",
    "    ## Validate the 'nb_sold' column\n",
    "    nb_sold = df[\"nb_sold\"]\n",
    "    has_null(nb_sold)\n",
    "    valid_type(nb_sold, np.int64)\n",
    "    valid_range(nb_sold, lower=1)\n",
    "\n",
    "    revenue = df[\"revenue\"]\n",
    "    has_null(revenue)\n",
    "    valid_type(revenue, np.int64, np.float64)\n",
    "    valid_range(revenue, lower=1)\n",
    "\n",
    "    years_as_customer = df[\"years_as_customer\"]\n",
    "    has_null(years_as_customer)\n",
    "    valid_type(years_as_customer, np.int64)\n",
    "    valid_range(years_as_customer, 0, (YEAR_CONDUCTED - FOUNDATION_YEAR))\n",
    "\n",
    "    nb_site_visits = df[\"nb_site_visits\"]\n",
    "    has_null(nb_site_visits)\n",
    "    valid_type(nb_site_visits, np.int64)\n",
    "    valid_range(nb_site_visits, lower=0)\n",
    "\n",
    "    state = df[\"state\"]\n",
    "    has_null(state)\n",
    "    assert VALID_STATES.issuperset(state.unique()), \"`state` column has invalid values\"  # Validate state names\n",
    "    print(\"All tests were passed!.\")\n",
    "    \n",
    "def has_null(s):\n",
    "    \"\"\"\n",
    "    Check if the Series contains any null values.\n",
    "    \n",
    "    Args:\n",
    "    s (pandas.Series): The series to check.\n",
    "    \n",
    "    Raises:\n",
    "    AssertionError: If the series contains any null values.\n",
    "    \"\"\"\n",
    "    has_null = s.isna().sum()\n",
    "    if s.isna().sum():\n",
    "        raise AssertionError(f\"`{s.name}` column has missing values\")\n",
    "\n",
    "def valid_type(s, *types):\n",
    "    \"\"\"\n",
    "    Check if the Series is of a valid type.\n",
    "    \n",
    "    Args:\n",
    "    s (pandas.Series): The series to check.\n",
    "    *types (tuple): The valid data types for the series.\n",
    "    \n",
    "    Raises:\n",
    "    AssertionError: If the series type does not match any of the valid types.\n",
    "    \"\"\"\n",
    "    for type in types:\n",
    "        if s.dtypes == type:\n",
    "            return True\n",
    "    raise AssertionError(f\"`{s.name}` column is of type `{s.dtypes}`, expected `{types}`\")\n",
    "\n",
    "def valid_range(s, lower=None, upper=None):\n",
    "    if not lower:\n",
    "        lower = s.min()\n",
    "    if not upper:\n",
    "        upper = s.max()\n",
    "    valid = (s.min() >= lower) & (s.max() <= upper) \n",
    "    assert valid, f\"Values in `{s.name}` column are out of range\"\n",
    "\n",
    "def is_valid(df):\n",
    "    \"\"\"\n",
    "    Wrapper function to run validation and catch any assertion errors.\n",
    "    \n",
    "    Args:\n",
    "    df (pandas.DataFrame): The dataset to validate.\n",
    "    \n",
    "    Returns:\n",
    "    None\n",
    "    \"\"\"\n",
    "    try:\n",
    "        validation(df)\n",
    "    except AssertionError as e:\n",
    "        print(e)\n",
    "\n",
    "def percent(s):\n",
    "    \"\"\"Calculate the percentage of non-null values in a Series.\"\"\"\n",
    "    return (s.mean() * 100).round(2)\n",
    "\n",
    "def missing_records(s):\n",
    "    \"\"\"Count the number of missing records in a Series.\"\"\"\n",
    "    return s.sum()\n",
    "    \n",
    "def check_nullity(df):\n",
    "    \"\"\"\n",
    "    Check and display nullity statistics for the dataframe.\n",
    "    \n",
    "    Args:\n",
    "    df (pandas.DataFrame): The dataset to check.\n",
    "    \n",
    "    Returns:\n",
    "    None\n",
    "    \"\"\"\n",
    "    nullity = df.isna()\n",
    "    no_zero = nullity.sum() != 0\n",
    "    return nullity.agg([missing_records, percent])\n",
    "    \n",
    "def quantile(quantile):\n",
    "    def inner(col):\n",
    "        return col.quantile(quantile)\n",
    "    \n",
    "    inner.__name__ = \"{:.0%}\".format(quantile)\n",
    "    return inner\n",
    "    \n",
    "q1, q2, q3 = quantile(.25), quantile(.5), quantile(.75)\n",
    "\n",
    "def iqr(col):\n",
    "    return q3(col) - q1(col)\n",
    "\n",
    "def range_(col):\n",
    "    return col.agg([\"min\", \"max\"]).diff().iloc[1]\n",
    "\n",
    "range_.__name__ = \"range\"\n",
    "\n",
    "def skewness(col):\n",
    "    return skew(col.dropna())\n",
    "\n",
    "def adjust_outlier(S):\n",
    "    s = S.copy()\n",
    "    IQR = iqr(s)\n",
    "    upper = q3(s) + 1.5 * IQR\n",
    "    lower = q1(s) - 1.5 * IQR\n",
    "    s[s > upper] = upper\n",
    "    s[s < lower] = lower\n",
    "    return s\n",
    "\n",
    "\n",
    "def imputation(df, sub_cols):\n",
    "    \"\"\"\n",
    "    Perform data imputation on specified columns using Iterative Imputer.\n",
    "    Args:\n",
    "    df (pandas.DataFrame): The dataset to impute.\n",
    "    sub_cols (list): The subset of columns to impute.\n",
    "    \n",
    "    Returns:\n",
    "    imputed_df (pandas.DataFrame): The imputed dataframe.\n",
    "    \"\"\"\n",
    "    df_cp = df.copy() # Create a copy of the dataset\n",
    "    encoders = {} # Dictionary to store label encoders for categorical columns\n",
    "\n",
    "    ## Encode categorical columns before imputation\n",
    "    for col_name in sub_cols:\n",
    "        if col_name not in (\"revenue\", \"customer_id\"):\n",
    "            encoders[col_name] = LabelEncoder()\n",
    "            col = df_cp[col_name]\n",
    "            col = encoders[col_name].fit_transform(col.values)\n",
    "            df_cp[col_name] = col\n",
    "    \n",
    "    ## Apply Iterative Imputer\n",
    "    imputed_df = df_cp.copy()\n",
    "    imputed_df.loc[:, sub_cols] = IterativeImputer().fit_transform(imputed_df[sub_cols])\n",
    "\n",
    "    ## Decode categorical columns after imputation\n",
    "    for col_name in encoders:\n",
    "        if col_name != \"revenue\":\n",
    "            temp = encoders[col_name].inverse_transform(imputed_df[col_name].astype(int))\n",
    "            imputed_df[col_name] = temp\n",
    "    return imputed_df\n"
   ]
  },
  {
   "cell_type": "markdown",
   "id": "8b23f08b-ef07-4910-a6a9-f3f7cf310ad8",
   "metadata": {},
   "source": [
    "## Data validation"
   ]
  },
  {
   "cell_type": "code",
   "execution_count": 3,
   "id": "4da504d2-d87f-481a-97d2-d19b8512d491",
   "metadata": {
    "executionCancelledAt": null,
    "executionTime": 52,
    "lastExecutedAt": 1724379372161,
    "lastExecutedByKernel": "3dab053c-f30f-4a60-b856-2703c0989243",
    "lastScheduledRunId": null,
    "lastSuccessfullyExecutedCode": "df = pd.read_csv(\"product_sales.csv\")\ndisplay(df.head())",
    "outputsMetadata": {
     "0": {
      "height": 218,
      "type": "dataFrame"
     }
    }
   },
   "outputs": [
    {
     "data": {
      "text/html": [
       "<div>\n",
       "<style scoped>\n",
       "    .dataframe tbody tr th:only-of-type {\n",
       "        vertical-align: middle;\n",
       "    }\n",
       "\n",
       "    .dataframe tbody tr th {\n",
       "        vertical-align: top;\n",
       "    }\n",
       "\n",
       "    .dataframe thead th {\n",
       "        text-align: right;\n",
       "    }\n",
       "</style>\n",
       "<table border=\"1\" class=\"dataframe\">\n",
       "  <thead>\n",
       "    <tr style=\"text-align: right;\">\n",
       "      <th></th>\n",
       "      <th>week</th>\n",
       "      <th>sales_method</th>\n",
       "      <th>customer_id</th>\n",
       "      <th>nb_sold</th>\n",
       "      <th>revenue</th>\n",
       "      <th>years_as_customer</th>\n",
       "      <th>nb_site_visits</th>\n",
       "      <th>state</th>\n",
       "    </tr>\n",
       "  </thead>\n",
       "  <tbody>\n",
       "    <tr>\n",
       "      <th>0</th>\n",
       "      <td>2</td>\n",
       "      <td>Email</td>\n",
       "      <td>2e72d641-95ac-497b-bbf8-4861764a7097</td>\n",
       "      <td>10</td>\n",
       "      <td>NaN</td>\n",
       "      <td>0</td>\n",
       "      <td>24</td>\n",
       "      <td>Arizona</td>\n",
       "    </tr>\n",
       "    <tr>\n",
       "      <th>1</th>\n",
       "      <td>6</td>\n",
       "      <td>Email + Call</td>\n",
       "      <td>3998a98d-70f5-44f7-942e-789bb8ad2fe7</td>\n",
       "      <td>15</td>\n",
       "      <td>225.47</td>\n",
       "      <td>1</td>\n",
       "      <td>28</td>\n",
       "      <td>Kansas</td>\n",
       "    </tr>\n",
       "    <tr>\n",
       "      <th>2</th>\n",
       "      <td>5</td>\n",
       "      <td>Call</td>\n",
       "      <td>d1de9884-8059-4065-b10f-86eef57e4a44</td>\n",
       "      <td>11</td>\n",
       "      <td>52.55</td>\n",
       "      <td>6</td>\n",
       "      <td>26</td>\n",
       "      <td>Wisconsin</td>\n",
       "    </tr>\n",
       "    <tr>\n",
       "      <th>3</th>\n",
       "      <td>4</td>\n",
       "      <td>Email</td>\n",
       "      <td>78aa75a4-ffeb-4817-b1d0-2f030783c5d7</td>\n",
       "      <td>11</td>\n",
       "      <td>NaN</td>\n",
       "      <td>3</td>\n",
       "      <td>25</td>\n",
       "      <td>Indiana</td>\n",
       "    </tr>\n",
       "    <tr>\n",
       "      <th>4</th>\n",
       "      <td>3</td>\n",
       "      <td>Email</td>\n",
       "      <td>10e6d446-10a5-42e5-8210-1b5438f70922</td>\n",
       "      <td>9</td>\n",
       "      <td>90.49</td>\n",
       "      <td>0</td>\n",
       "      <td>28</td>\n",
       "      <td>Illinois</td>\n",
       "    </tr>\n",
       "  </tbody>\n",
       "</table>\n",
       "</div>"
      ],
      "text/plain": [
       "   week  sales_method                           customer_id  nb_sold  revenue  \\\n",
       "0     2         Email  2e72d641-95ac-497b-bbf8-4861764a7097       10      NaN   \n",
       "1     6  Email + Call  3998a98d-70f5-44f7-942e-789bb8ad2fe7       15   225.47   \n",
       "2     5          Call  d1de9884-8059-4065-b10f-86eef57e4a44       11    52.55   \n",
       "3     4         Email  78aa75a4-ffeb-4817-b1d0-2f030783c5d7       11      NaN   \n",
       "4     3         Email  10e6d446-10a5-42e5-8210-1b5438f70922        9    90.49   \n",
       "\n",
       "   years_as_customer  nb_site_visits      state  \n",
       "0                  0              24    Arizona  \n",
       "1                  1              28     Kansas  \n",
       "2                  6              26  Wisconsin  \n",
       "3                  3              25    Indiana  \n",
       "4                  0              28   Illinois  "
      ]
     },
     "metadata": {},
     "output_type": "display_data"
    }
   ],
   "source": [
    "df = pd.read_csv(\"product_sales.csv\")\n",
    "display(df.head())"
   ]
  },
  {
   "cell_type": "markdown",
   "id": "45bd441d-03ab-4ac0-90ba-9cf609820d8b",
   "metadata": {},
   "source": [
    "#### `data types and missingness`"
   ]
  },
  {
   "cell_type": "code",
   "execution_count": 4,
   "id": "1078ecd2-0fa6-4826-a146-0fbdf0760695",
   "metadata": {
    "executionCancelledAt": null,
    "executionTime": 54,
    "lastExecutedAt": 1724379372215,
    "lastExecutedByKernel": "3dab053c-f30f-4a60-b856-2703c0989243",
    "lastScheduledRunId": null,
    "lastSuccessfullyExecutedCode": "# Display data types and summary statistics\ndf.info()\nsep()\ndisplay(check_nullity(df))",
    "outputsMetadata": {
     "0": {
      "height": 416,
      "type": "stream"
     },
     "1": {
      "height": 134,
      "type": "dataFrame"
     }
    }
   },
   "outputs": [
    {
     "name": "stdout",
     "output_type": "stream",
     "text": [
      "<class 'pandas.core.frame.DataFrame'>\n",
      "RangeIndex: 15000 entries, 0 to 14999\n",
      "Data columns (total 8 columns):\n",
      " #   Column             Non-Null Count  Dtype  \n",
      "---  ------             --------------  -----  \n",
      " 0   week               15000 non-null  int64  \n",
      " 1   sales_method       15000 non-null  object \n",
      " 2   customer_id        15000 non-null  object \n",
      " 3   nb_sold            15000 non-null  int64  \n",
      " 4   revenue            13926 non-null  float64\n",
      " 5   years_as_customer  15000 non-null  int64  \n",
      " 6   nb_site_visits     15000 non-null  int64  \n",
      " 7   state              15000 non-null  object \n",
      "dtypes: float64(1), int64(4), object(3)\n",
      "memory usage: 937.6+ KB\n",
      "\n",
      "+------------------------------------------------------------------------------+\n",
      "\n"
     ]
    },
    {
     "data": {
      "text/html": [
       "<div>\n",
       "<style scoped>\n",
       "    .dataframe tbody tr th:only-of-type {\n",
       "        vertical-align: middle;\n",
       "    }\n",
       "\n",
       "    .dataframe tbody tr th {\n",
       "        vertical-align: top;\n",
       "    }\n",
       "\n",
       "    .dataframe thead th {\n",
       "        text-align: right;\n",
       "    }\n",
       "</style>\n",
       "<table border=\"1\" class=\"dataframe\">\n",
       "  <thead>\n",
       "    <tr style=\"text-align: right;\">\n",
       "      <th></th>\n",
       "      <th>week</th>\n",
       "      <th>sales_method</th>\n",
       "      <th>customer_id</th>\n",
       "      <th>nb_sold</th>\n",
       "      <th>revenue</th>\n",
       "      <th>years_as_customer</th>\n",
       "      <th>nb_site_visits</th>\n",
       "      <th>state</th>\n",
       "    </tr>\n",
       "  </thead>\n",
       "  <tbody>\n",
       "    <tr>\n",
       "      <th>missing_records</th>\n",
       "      <td>0.0</td>\n",
       "      <td>0.0</td>\n",
       "      <td>0.0</td>\n",
       "      <td>0.0</td>\n",
       "      <td>1074.00</td>\n",
       "      <td>0.0</td>\n",
       "      <td>0.0</td>\n",
       "      <td>0.0</td>\n",
       "    </tr>\n",
       "    <tr>\n",
       "      <th>percent</th>\n",
       "      <td>0.0</td>\n",
       "      <td>0.0</td>\n",
       "      <td>0.0</td>\n",
       "      <td>0.0</td>\n",
       "      <td>7.16</td>\n",
       "      <td>0.0</td>\n",
       "      <td>0.0</td>\n",
       "      <td>0.0</td>\n",
       "    </tr>\n",
       "  </tbody>\n",
       "</table>\n",
       "</div>"
      ],
      "text/plain": [
       "                 week  sales_method  customer_id  nb_sold  revenue  \\\n",
       "missing_records   0.0           0.0          0.0      0.0  1074.00   \n",
       "percent           0.0           0.0          0.0      0.0     7.16   \n",
       "\n",
       "                 years_as_customer  nb_site_visits  state  \n",
       "missing_records                0.0             0.0    0.0  \n",
       "percent                        0.0             0.0    0.0  "
      ]
     },
     "metadata": {},
     "output_type": "display_data"
    }
   ],
   "source": [
    "# Display data types and summary statistics\n",
    "df.info()\n",
    "sep()\n",
    "display(check_nullity(df))"
   ]
  },
  {
   "cell_type": "markdown",
   "id": "0dff0f64-5f1d-4946-8584-7d78d31067d7",
   "metadata": {},
   "source": [
    "- The dataset has **8 fields** and **15000 records**.\n",
    "- All data types are **correctly cast**.\n",
    "- There are **1074 (7.16%) missing values** in the **revenue** column."
   ]
  },
  {
   "cell_type": "markdown",
   "id": "8a8230d9-60bc-4e78-b001-1102e8b8029c",
   "metadata": {},
   "source": [
    "#### `week`"
   ]
  },
  {
   "cell_type": "code",
   "execution_count": 5,
   "id": "0d27bb1b-9fc4-491a-878f-e8152d1f24e5",
   "metadata": {
    "executionCancelledAt": null,
    "executionTime": 54,
    "lastExecutedAt": 1724379372269,
    "lastExecutedByKernel": "3dab053c-f30f-4a60-b856-2703c0989243",
    "lastScheduledRunId": null,
    "lastSuccessfullyExecutedCode": "## Analyze the 'week' column\nweek = df[\"week\"].copy()\nprint(\"Unique values:\", *np.sort(week.unique()))",
    "outputsMetadata": {
     "0": {
      "height": 38,
      "type": "stream"
     }
    }
   },
   "outputs": [
    {
     "name": "stdout",
     "output_type": "stream",
     "text": [
      "Unique values: 1 2 3 4 5 6\n"
     ]
    }
   ],
   "source": [
    "## Analyze the 'week' column\n",
    "week = df[\"week\"].copy()\n",
    "print(\"Unique values:\", *np.sort(week.unique()))"
   ]
  },
  {
   "cell_type": "markdown",
   "id": "825319e4-5432-4512-b4a2-22b6bccbc6c8",
   "metadata": {},
   "source": [
    "- All values in the `week` column are within the **valid range of 1-6**, and all weeks are included."
   ]
  },
  {
   "cell_type": "markdown",
   "id": "b96dd5e7-1279-45db-aab9-a9cfaad559cb",
   "metadata": {},
   "source": [
    "#### `sales_method`"
   ]
  },
  {
   "cell_type": "code",
   "execution_count": 6,
   "id": "fb36e3f0-7874-4d85-be28-bb8c6a8b528b",
   "metadata": {
    "executionCancelledAt": null,
    "executionTime": 53,
    "lastExecutedAt": 1724379372322,
    "lastExecutedByKernel": "3dab053c-f30f-4a60-b856-2703c0989243",
    "lastScheduledRunId": null,
    "lastSuccessfullyExecutedCode": "## Analyze and clean the 'sales_method' column\nsales_method = df[\"sales_method\"].copy()\nprint(\"Before:\")\ndisplay(sales_method.unique())\nsep()\nsales_method = sales_method.str.title().str.replace(\"Em \\+ Call\", \"Email + Call\", regex=True)\ndf[\"sales_method\"] = sales_method\n\nprint(\"After:\")\ndisplay(df[\"sales_method\"].unique())\nsep()",
    "outputsMetadata": {
     "0": {
      "height": 38,
      "type": "stream"
     },
     "2": {
      "height": 101,
      "type": "stream"
     },
     "4": {
      "height": 80,
      "type": "stream"
     },
     "5": {
      "height": 136,
      "type": "dataFrame"
     }
    }
   },
   "outputs": [
    {
     "name": "stdout",
     "output_type": "stream",
     "text": [
      "Before:\n"
     ]
    },
    {
     "data": {
      "text/plain": [
       "array(['Email', 'Email + Call', 'Call', 'em + call', 'email'],\n",
       "      dtype=object)"
      ]
     },
     "metadata": {},
     "output_type": "display_data"
    },
    {
     "name": "stdout",
     "output_type": "stream",
     "text": [
      "\n",
      "+------------------------------------------------------------------------------+\n",
      "\n",
      "After:\n"
     ]
    },
    {
     "data": {
      "text/plain": [
       "array(['Email', 'Email + Call', 'Call'], dtype=object)"
      ]
     },
     "metadata": {},
     "output_type": "display_data"
    },
    {
     "name": "stdout",
     "output_type": "stream",
     "text": [
      "\n",
      "+------------------------------------------------------------------------------+\n",
      "\n"
     ]
    }
   ],
   "source": [
    "## Analyze and clean the 'sales_method' column\n",
    "sales_method = df[\"sales_method\"].copy()\n",
    "print(\"Before:\")\n",
    "display(sales_method.unique())\n",
    "sep()\n",
    "sales_method = sales_method.str.title().str.replace(\"Em \\+ Call\", \"Email + Call\", regex=True)\n",
    "df[\"sales_method\"] = sales_method\n",
    "\n",
    "print(\"After:\")\n",
    "display(df[\"sales_method\"].unique())\n",
    "sep()"
   ]
  },
  {
   "cell_type": "markdown",
   "id": "9695ba4a-3a72-44d0-a608-a117f94a2a1c",
   "metadata": {},
   "source": [
    "- There was an inconsistency due to the use of **'em + call'** instead of **'Email + Call'** and  **'Call'** respectively. \n",
    "- These discrepancies were addressed by mapping them to their intended values."
   ]
  },
  {
   "cell_type": "markdown",
   "id": "5fc26dfe-6500-4aed-9746-4f74a874eddf",
   "metadata": {},
   "source": [
    "#### `customer_id`"
   ]
  },
  {
   "cell_type": "code",
   "execution_count": 7,
   "id": "e648c84f-745e-44cf-9463-2f71866871fa",
   "metadata": {
    "executionCancelledAt": null,
    "executionTime": 51,
    "lastExecutedAt": 1724379372373,
    "lastExecutedByKernel": "3dab053c-f30f-4a60-b856-2703c0989243",
    "lastScheduledRunId": null,
    "lastSuccessfullyExecutedCode": "## Analyze the 'customer_id' column\ncustomer_id = df[\"customer_id\"].copy()\nprint(\"Duplicated ID:\", customer_id.duplicated().sum())\ntry:\n    customer_id.map(UUID)\n    print(\"All IDs are valid UUID.\")\nexcept Exception as e:\n    print(\"Invlid UUID.\")",
    "outputsMetadata": {
     "0": {
      "height": 59,
      "type": "stream"
     }
    }
   },
   "outputs": [
    {
     "name": "stdout",
     "output_type": "stream",
     "text": [
      "Duplicated ID: 0\n",
      "All IDs are valid UUID.\n"
     ]
    }
   ],
   "source": [
    "## Analyze the 'customer_id' column\n",
    "customer_id = df[\"customer_id\"].copy()\n",
    "print(\"Duplicated ID:\", customer_id.duplicated().sum())\n",
    "try:\n",
    "    customer_id.map(UUID)\n",
    "    print(\"All IDs are valid UUID.\")\n",
    "except Exception as e:\n",
    "    print(\"Invlid UUID.\")"
   ]
  },
  {
   "cell_type": "markdown",
   "id": "42904a5c-8c06-49de-b31d-a9ca76097567",
   "metadata": {},
   "source": [
    "- All IDs are valid UUIDs (Universal Unique Identifiers). \n",
    "- There are **no duplicated IDs**, ensuring that each customer_id is unique and valid."
   ]
  },
  {
   "cell_type": "markdown",
   "id": "45649774-f03f-4bed-a437-004904bf1bdd",
   "metadata": {},
   "source": [
    "#### `nb_sold`"
   ]
  },
  {
   "cell_type": "code",
   "execution_count": 8,
   "id": "5a344487-e874-4780-9871-729416677232",
   "metadata": {
    "executionCancelledAt": null,
    "executionTime": 76,
    "lastExecutedAt": 1724379372449,
    "lastExecutedByKernel": "3dab053c-f30f-4a60-b856-2703c0989243",
    "lastScheduledRunId": null,
    "lastSuccessfullyExecutedCode": "nb_sold = df[\"nb_sold\"]\ndisplay(nb_sold.agg([\"min\", \"max\"]))\nadjust_outlier(nb_sold)",
    "outputsMetadata": {
     "0": {
      "height": 134,
      "type": "dataFrame"
     },
     "1": {
      "height": 539,
      "type": "dataFrame"
     }
    }
   },
   "outputs": [
    {
     "data": {
      "text/plain": [
       "min     7\n",
       "max    16\n",
       "Name: nb_sold, dtype: int64"
      ]
     },
     "metadata": {},
     "output_type": "display_data"
    },
    {
     "data": {
      "text/plain": [
       "0        10\n",
       "1        14\n",
       "2        11\n",
       "3        11\n",
       "4         9\n",
       "         ..\n",
       "14995    10\n",
       "14996    10\n",
       "14997     7\n",
       "14998    13\n",
       "14999    13\n",
       "Name: nb_sold, Length: 15000, dtype: int64"
      ]
     },
     "execution_count": 8,
     "metadata": {},
     "output_type": "execute_result"
    }
   ],
   "source": [
    "nb_sold = df[\"nb_sold\"]\n",
    "display(nb_sold.agg([\"min\", \"max\"]))\n",
    "adjust_outlier(nb_sold)"
   ]
  },
  {
   "cell_type": "markdown",
   "id": "5a000a75-4c9f-416a-b6b6-475255eaca0a",
   "metadata": {},
   "source": [
    "- All values are within a **valid range**."
   ]
  },
  {
   "cell_type": "markdown",
   "id": "523490b1-d2ac-4cc1-adc4-d43e08e9b0c5",
   "metadata": {},
   "source": [
    "#### `years_as_customer`"
   ]
  },
  {
   "cell_type": "code",
   "execution_count": 9,
   "id": "6998eead-6222-477c-b6a2-191f108e783b",
   "metadata": {
    "executionCancelledAt": null,
    "executionTime": 52,
    "lastExecutedAt": 1724379372501,
    "lastExecutedByKernel": "3dab053c-f30f-4a60-b856-2703c0989243",
    "lastScheduledRunId": null,
    "lastSuccessfullyExecutedCode": "years_as_customer = df[\"years_as_customer\"]\nworking_years = YEAR_CONDUCTED - FOUNDATION_YEAR\nyears_as_customer_valid_range = (years_as_customer >= 0) & (years_as_customer <= working_years)\nprint(\"Before:\")\ndisplay(df[~years_as_customer_valid_range])\ndf.loc[~years_as_customer_valid_range, \"years_as_customer\"] = 40\nprint(\"After:\")\ndisplay(df[~years_as_customer_valid_range])",
    "outputsMetadata": {
     "0": {
      "height": 38,
      "type": "stream"
     },
     "1": {
      "height": 121,
      "type": "dataFrame"
     },
     "2": {
      "height": 38,
      "type": "stream"
     },
     "3": {
      "height": 121,
      "type": "dataFrame"
     }
    }
   },
   "outputs": [
    {
     "name": "stdout",
     "output_type": "stream",
     "text": [
      "Before:\n"
     ]
    },
    {
     "data": {
      "text/html": [
       "<div>\n",
       "<style scoped>\n",
       "    .dataframe tbody tr th:only-of-type {\n",
       "        vertical-align: middle;\n",
       "    }\n",
       "\n",
       "    .dataframe tbody tr th {\n",
       "        vertical-align: top;\n",
       "    }\n",
       "\n",
       "    .dataframe thead th {\n",
       "        text-align: right;\n",
       "    }\n",
       "</style>\n",
       "<table border=\"1\" class=\"dataframe\">\n",
       "  <thead>\n",
       "    <tr style=\"text-align: right;\">\n",
       "      <th></th>\n",
       "      <th>week</th>\n",
       "      <th>sales_method</th>\n",
       "      <th>customer_id</th>\n",
       "      <th>nb_sold</th>\n",
       "      <th>revenue</th>\n",
       "      <th>years_as_customer</th>\n",
       "      <th>nb_site_visits</th>\n",
       "      <th>state</th>\n",
       "    </tr>\n",
       "  </thead>\n",
       "  <tbody>\n",
       "    <tr>\n",
       "      <th>13741</th>\n",
       "      <td>2</td>\n",
       "      <td>Email</td>\n",
       "      <td>18919515-a618-430c-9a05-2c7d8fea96af</td>\n",
       "      <td>10</td>\n",
       "      <td>97.22</td>\n",
       "      <td>63</td>\n",
       "      <td>24</td>\n",
       "      <td>California</td>\n",
       "    </tr>\n",
       "    <tr>\n",
       "      <th>13800</th>\n",
       "      <td>4</td>\n",
       "      <td>Call</td>\n",
       "      <td>2ea97d34-571d-4e1b-95be-fea1c404649f</td>\n",
       "      <td>10</td>\n",
       "      <td>50.47</td>\n",
       "      <td>47</td>\n",
       "      <td>27</td>\n",
       "      <td>California</td>\n",
       "    </tr>\n",
       "  </tbody>\n",
       "</table>\n",
       "</div>"
      ],
      "text/plain": [
       "       week sales_method                           customer_id  nb_sold  \\\n",
       "13741     2        Email  18919515-a618-430c-9a05-2c7d8fea96af       10   \n",
       "13800     4         Call  2ea97d34-571d-4e1b-95be-fea1c404649f       10   \n",
       "\n",
       "       revenue  years_as_customer  nb_site_visits       state  \n",
       "13741    97.22                 63              24  California  \n",
       "13800    50.47                 47              27  California  "
      ]
     },
     "metadata": {},
     "output_type": "display_data"
    },
    {
     "name": "stdout",
     "output_type": "stream",
     "text": [
      "After:\n"
     ]
    },
    {
     "data": {
      "text/html": [
       "<div>\n",
       "<style scoped>\n",
       "    .dataframe tbody tr th:only-of-type {\n",
       "        vertical-align: middle;\n",
       "    }\n",
       "\n",
       "    .dataframe tbody tr th {\n",
       "        vertical-align: top;\n",
       "    }\n",
       "\n",
       "    .dataframe thead th {\n",
       "        text-align: right;\n",
       "    }\n",
       "</style>\n",
       "<table border=\"1\" class=\"dataframe\">\n",
       "  <thead>\n",
       "    <tr style=\"text-align: right;\">\n",
       "      <th></th>\n",
       "      <th>week</th>\n",
       "      <th>sales_method</th>\n",
       "      <th>customer_id</th>\n",
       "      <th>nb_sold</th>\n",
       "      <th>revenue</th>\n",
       "      <th>years_as_customer</th>\n",
       "      <th>nb_site_visits</th>\n",
       "      <th>state</th>\n",
       "    </tr>\n",
       "  </thead>\n",
       "  <tbody>\n",
       "    <tr>\n",
       "      <th>13741</th>\n",
       "      <td>2</td>\n",
       "      <td>Email</td>\n",
       "      <td>18919515-a618-430c-9a05-2c7d8fea96af</td>\n",
       "      <td>10</td>\n",
       "      <td>97.22</td>\n",
       "      <td>40</td>\n",
       "      <td>24</td>\n",
       "      <td>California</td>\n",
       "    </tr>\n",
       "    <tr>\n",
       "      <th>13800</th>\n",
       "      <td>4</td>\n",
       "      <td>Call</td>\n",
       "      <td>2ea97d34-571d-4e1b-95be-fea1c404649f</td>\n",
       "      <td>10</td>\n",
       "      <td>50.47</td>\n",
       "      <td>40</td>\n",
       "      <td>27</td>\n",
       "      <td>California</td>\n",
       "    </tr>\n",
       "  </tbody>\n",
       "</table>\n",
       "</div>"
      ],
      "text/plain": [
       "       week sales_method                           customer_id  nb_sold  \\\n",
       "13741     2        Email  18919515-a618-430c-9a05-2c7d8fea96af       10   \n",
       "13800     4         Call  2ea97d34-571d-4e1b-95be-fea1c404649f       10   \n",
       "\n",
       "       revenue  years_as_customer  nb_site_visits       state  \n",
       "13741    97.22                 40              24  California  \n",
       "13800    50.47                 40              27  California  "
      ]
     },
     "metadata": {},
     "output_type": "display_data"
    }
   ],
   "source": [
    "years_as_customer = df[\"years_as_customer\"]\n",
    "working_years = YEAR_CONDUCTED - FOUNDATION_YEAR\n",
    "years_as_customer_valid_range = (years_as_customer >= 0) & (years_as_customer <= working_years)\n",
    "print(\"Before:\")\n",
    "display(df[~years_as_customer_valid_range])\n",
    "df.loc[~years_as_customer_valid_range, \"years_as_customer\"] = 40\n",
    "print(\"After:\")\n",
    "display(df[~years_as_customer_valid_range])"
   ]
  },
  {
   "cell_type": "markdown",
   "id": "e4cf7bf1-daf4-41c9-9908-15f4532a7093",
   "metadata": {},
   "source": [
    "- The values for `years_as_customer` were found to be in the range of **0-63**, which is not valid because the company was founded in **1984**. For the year **2024**, the valid range should be **0-40** years.\n",
    "- There are **2 records** with `years_as_customer` values outside this valid range. \n",
    "- This issue was addressed by **mapping these records to a valid value**."
   ]
  },
  {
   "cell_type": "markdown",
   "id": "570e709d-9a36-49a3-8f90-96b71b64a289",
   "metadata": {},
   "source": [
    "#### `nb_site_visits`"
   ]
  },
  {
   "cell_type": "code",
   "execution_count": 10,
   "id": "48875dfa-417c-4184-a4da-2bfe46cbc71b",
   "metadata": {
    "executionCancelledAt": null,
    "executionTime": 52,
    "lastExecutedAt": 1724379372553,
    "lastExecutedByKernel": "3dab053c-f30f-4a60-b856-2703c0989243",
    "lastScheduledRunId": null,
    "lastSuccessfullyExecutedCode": "nb_site_visits = df[\"nb_site_visits\"]\ndisplay(nb_site_visits.agg([\"min\", \"max\"]))",
    "outputsMetadata": {
     "0": {
      "height": 121,
      "type": "dataFrame"
     }
    }
   },
   "outputs": [
    {
     "data": {
      "text/plain": [
       "min    12\n",
       "max    41\n",
       "Name: nb_site_visits, dtype: int64"
      ]
     },
     "metadata": {},
     "output_type": "display_data"
    }
   ],
   "source": [
    "nb_site_visits = df[\"nb_site_visits\"]\n",
    "display(nb_site_visits.agg([\"min\", \"max\"]))"
   ]
  },
  {
   "cell_type": "markdown",
   "id": "ccad1808-4a64-4bc9-8d15-5abf172d05cc",
   "metadata": {},
   "source": [
    "- All values are within a **valid range**."
   ]
  },
  {
   "cell_type": "markdown",
   "id": "c73b9e5d-854c-478b-8c43-8659de85e2d0",
   "metadata": {},
   "source": [
    "#### `state`"
   ]
  },
  {
   "cell_type": "code",
   "execution_count": 11,
   "id": "45e15dcd-a61f-4fda-9c3a-944ceed8eab1",
   "metadata": {
    "executionCancelledAt": null,
    "executionTime": 53,
    "lastExecutedAt": 1724379372606,
    "lastExecutedByKernel": "3dab053c-f30f-4a60-b856-2703c0989243",
    "lastScheduledRunId": null,
    "lastSuccessfullyExecutedCode": "state = df[\"state\"]\nprint(\"All values are valid state:\",VALID_STATES.issuperset(state))",
    "outputsMetadata": {
     "0": {
      "height": 38,
      "type": "stream"
     }
    }
   },
   "outputs": [
    {
     "name": "stdout",
     "output_type": "stream",
     "text": [
      "All values are valid state: True\n"
     ]
    }
   ],
   "source": [
    "state = df[\"state\"]\n",
    "print(\"All values are valid state:\",VALID_STATES.issuperset(state))"
   ]
  },
  {
   "cell_type": "markdown",
   "id": "9c31132b-d74d-4410-9c74-cfb9d17f77b2",
   "metadata": {},
   "source": [
    "- The condition $\\{x : x \\in \\text{state}\\} \\subseteq \\text{USA}$ was validated, ensuring that all values in the state column are indeed valid U.S. states. \n",
    "- This was confirmed using a set of all U.S. states."
   ]
  },
  {
   "cell_type": "markdown",
   "id": "7581898f-6c58-409e-91eb-3a8da0c6a6db",
   "metadata": {},
   "source": [
    "#### `revenue`"
   ]
  },
  {
   "cell_type": "code",
   "execution_count": 12,
   "id": "5712525d-2e14-41b8-8a15-47e5248ff09c",
   "metadata": {
    "executionCancelledAt": null,
    "executionTime": 51,
    "lastExecutedAt": 1724379372657,
    "lastExecutedByKernel": "3dab053c-f30f-4a60-b856-2703c0989243",
    "lastScheduledRunId": null,
    "lastSuccessfullyExecutedCode": "revenue = df[\"revenue\"]\ndisplay(pd.concat([revenue.agg([\"min\", \"max\"]), check_nullity(revenue)]).to_frame().T)",
    "outputsMetadata": {
     "0": {
      "height": 96,
      "type": "dataFrame"
     }
    }
   },
   "outputs": [
    {
     "data": {
      "text/html": [
       "<div>\n",
       "<style scoped>\n",
       "    .dataframe tbody tr th:only-of-type {\n",
       "        vertical-align: middle;\n",
       "    }\n",
       "\n",
       "    .dataframe tbody tr th {\n",
       "        vertical-align: top;\n",
       "    }\n",
       "\n",
       "    .dataframe thead th {\n",
       "        text-align: right;\n",
       "    }\n",
       "</style>\n",
       "<table border=\"1\" class=\"dataframe\">\n",
       "  <thead>\n",
       "    <tr style=\"text-align: right;\">\n",
       "      <th></th>\n",
       "      <th>min</th>\n",
       "      <th>max</th>\n",
       "      <th>missing_records</th>\n",
       "      <th>percent</th>\n",
       "    </tr>\n",
       "  </thead>\n",
       "  <tbody>\n",
       "    <tr>\n",
       "      <th>revenue</th>\n",
       "      <td>32.54</td>\n",
       "      <td>238.32</td>\n",
       "      <td>1074.0</td>\n",
       "      <td>7.16</td>\n",
       "    </tr>\n",
       "  </tbody>\n",
       "</table>\n",
       "</div>"
      ],
      "text/plain": [
       "           min     max  missing_records  percent\n",
       "revenue  32.54  238.32           1074.0     7.16"
      ]
     },
     "metadata": {},
     "output_type": "display_data"
    }
   ],
   "source": [
    "revenue = df[\"revenue\"]\n",
    "display(pd.concat([revenue.agg([\"min\", \"max\"]), check_nullity(revenue)]).to_frame().T)"
   ]
  },
  {
   "cell_type": "markdown",
   "id": "8e34b1f7-9635-4ec8-8e09-4bffca61a20e",
   "metadata": {},
   "source": [
    "- All values are within a **valid range**.\n",
    "- There are missing values in the `revenue` column that need imputation. \n",
    "- The missing values will be imputed using **MICE** (Multiple Imputation by Chained Equations) imputation."
   ]
  },
  {
   "cell_type": "code",
   "execution_count": 13,
   "id": "e7432adb-5d38-4c84-904a-fbd26ae63ac2",
   "metadata": {
    "executionCancelledAt": null,
    "executionTime": 2315,
    "lastExecutedAt": 1724379478613,
    "lastExecutedByKernel": "3dab053c-f30f-4a60-b856-2703c0989243",
    "lastScheduledRunId": null,
    "lastSuccessfullyExecutedCode": "## Analyze and compare models after imputation\nsub_cols = [\"week\", \"sales_method\", \"nb_sold\", \"revenue\", \"nb_site_visits\", \"state\"]\nimputed_df = imputation(df, sub_cols)"
   },
   "outputs": [],
   "source": [
    "## Analyze and compare models after imputation\n",
    "sub_cols = [\"week\", \"sales_method\", \"nb_sold\", \"revenue\", \"nb_site_visits\", \"state\"]\n",
    "imputed_df = imputation(df, sub_cols)"
   ]
  },
  {
   "cell_type": "markdown",
   "id": "f5759def-8f62-49dd-badd-744a1c4b8cf0",
   "metadata": {},
   "source": [
    "#### Handling outliers\n",
    "- Revenue outliers will be handled at the `sales_method` level.\n",
    "- Outliers are identified using the IQR method.\n",
    "- The selected method for handling outliers involves mapping upper outliers to the upper bound and lower outliers to the lower bound.\n"
   ]
  },
  {
   "cell_type": "code",
   "execution_count": 14,
   "id": "8cec35fb-a173-4a65-98f2-e7587ae0335b",
   "metadata": {
    "executionCancelledAt": null,
    "executionTime": 440,
    "lastExecutedAt": 1724379486463,
    "lastExecutedByKernel": "3dab053c-f30f-4a60-b856-2703c0989243",
    "lastScheduledRunId": null,
    "lastSuccessfullyExecutedCode": "sns.boxplot(data=imputed_df, x=\"revenue\")\nplt.show()\n\nsns.boxplot(data=imputed_df, x=\"revenue\", hue=\"sales_method\")\nplt.show()"
   },
   "outputs": [
    {
     "data": {
      "image/png": "[encoded data removed]",
      "text/plain": [
       "<Figure size 640x480 with 1 Axes>"
      ]
     },
     "metadata": {},
     "output_type": "display_data"
    },
    {
     "data": {
      "image/png": "[encoded data removed]",
      "text/plain": [
       "<Figure size 640x480 with 1 Axes>"
      ]
     },
     "metadata": {},
     "output_type": "display_data"
    }
   ],
   "source": [
    "sns.boxplot(data=imputed_df, x=\"revenue\")\n",
    "plt.show()\n",
    "\n",
    "sns.boxplot(data=imputed_df, x=\"revenue\", hue=\"sales_method\")\n",
    "plt.show()"
   ]
  },
  {
   "cell_type": "code",
   "execution_count": 15,
   "id": "7d0dc7ac-deeb-473c-b39e-ffcebf39fc44",
   "metadata": {
    "executionCancelledAt": null,
    "executionTime": 32,
    "lastExecutedAt": 1724379493694,
    "lastExecutedByKernel": "3dab053c-f30f-4a60-b856-2703c0989243",
    "lastScheduledRunId": null,
    "lastSuccessfullyExecutedCode": "for method in imputed_df.sales_method.unique():\n    mask = imputed_df.sales_method == method\n    sub_revenue = imputed_df.loc[mask, \"revenue\"] \n    adjusted_revenue = adjust_outlier(sub_revenue)\n    imputed_df.loc[mask, \"revenue\"]  = adjusted_revenue",
    "outputsMetadata": {
     "0": {
      "height": 321,
      "type": "dataFrame"
     }
    }
   },
   "outputs": [],
   "source": [
    "for method in imputed_df.sales_method.unique():\n",
    "    mask = imputed_df.sales_method == method\n",
    "    sub_revenue = imputed_df.loc[mask, \"revenue\"] \n",
    "    adjusted_revenue = adjust_outlier(sub_revenue)\n",
    "    imputed_df.loc[mask, \"revenue\"]  = adjusted_revenue"
   ]
  },
  {
   "cell_type": "code",
   "execution_count": 16,
   "id": "0bf68837-ab8a-4471-a84d-ef5a6c9096b6",
   "metadata": {
    "executionCancelledAt": null,
    "executionTime": 21,
    "lastExecutedAt": 1724379494122,
    "lastExecutedByKernel": "3dab053c-f30f-4a60-b856-2703c0989243",
    "lastScheduledRunId": null,
    "lastSuccessfullyExecutedCode": "validation(imputed_df)",
    "outputsMetadata": {
     "0": {
      "height": 38,
      "type": "stream"
     }
    }
   },
   "outputs": [
    {
     "name": "stdout",
     "output_type": "stream",
     "text": [
      "All tests were passed!.\n"
     ]
    }
   ],
   "source": [
    "validation(imputed_df)"
   ]
  },
  {
   "cell_type": "markdown",
   "id": "59edd6ab-0a2b-4cb5-8020-e64d4fc83daa",
   "metadata": {},
   "source": [
    "- **Summary**:\n",
    "1. Missing Values: `revenue` Column: **7.16%** of the values were missing. These were imputed using Multiple Imputation by Chained Equations (MICE). \n",
    "\n",
    "1. `sales_method` Column: Inconsistencies: Variants such as 'em + call' and 'email' were corrected to 'Email + Call' and 'Email' respectively.\n",
    "\n",
    "1. `years_as_customer` Column: Values outside the valid range (0-40 years) were corrected.\n",
    "\n",
    "1. `week`, `nb_sold`, `nb_site_visits`, `state`: No issues found, values were within valid ranges and correctly formatted.\n",
    "\n",
    "---"
   ]
  },
  {
   "cell_type": "markdown",
   "id": "e9cc16b7-0f05-4a42-aaf8-6acc3cec7d1a",
   "metadata": {},
   "source": [
    "## `Data Visualization`"
   ]
  },
  {
   "cell_type": "markdown",
   "id": "f4362e2c-34f8-40fb-962f-029dabf4ec93",
   "metadata": {},
   "source": [
    "- **Tasks**\n",
    "1. How many customers were there for each approach?\n",
    "1. What does the spread of the revenue look like overall? And for each method?\n",
    "1. Was there any difference in revenue over time for each of the methods?\n",
    "1. Based on the data, which method would you recommend we continue to use? Some\n",
    "of these methods take more time from the team so they may not be the best for us\n",
    "to use if the results are similar."
   ]
  },
  {
   "cell_type": "markdown",
   "id": "ecf42d31-9c3f-4752-95a9-893d58e62b5d",
   "metadata": {},
   "source": [
    "### How many customers were there for each approach?"
   ]
  },
  {
   "cell_type": "code",
   "execution_count": 17,
   "id": "31e8e5f4-92b2-42a2-9127-b7bba399a651",
   "metadata": {
    "executionCancelledAt": null,
    "executionTime": 52,
    "lastExecutedAt": 1724379513805,
    "lastExecutedByKernel": "3dab053c-f30f-4a60-b856-2703c0989243",
    "lastScheduledRunId": null,
    "lastSuccessfullyExecutedCode": "customer_per_approach = imputed_df[\"sales_method\"].value_counts()"
   },
   "outputs": [],
   "source": [
    "customer_per_approach = imputed_df[\"sales_method\"].value_counts()"
   ]
  },
  {
   "cell_type": "code",
   "execution_count": 18,
   "id": "0fe21965-9cc6-4288-9bea-87d117eb6edd",
   "metadata": {
    "executionCancelledAt": null,
    "executionTime": 852,
    "lastExecutedAt": 1724379514929,
    "lastExecutedByKernel": "3dab053c-f30f-4a60-b856-2703c0989243",
    "lastScheduledRunId": null,
    "lastSuccessfullyExecutedCode": "fig, ax = plt.subplots(figsize=(9, 7))\n\nsns.barplot(customer_per_approach, ax=ax)\n\nlabels = customer_per_approach.astype(str) + \\\nimputed_df[\"sales_method\"].value_counts(normalize=True).map(lambda x: \" ({:.2%})\".format(x))\nax.bar_label(ax.containers[0], labels, fontsize=16)\n\nax.set_title('Customer Distribution per Approach', fontsize=20)\nax.set_xlabel('Approach', fontsize=16)\nax.set_ylabel('Number of Customers', fontsize=16)\n\nfor spine in ax.spines.values():\n    spine.set_visible(False)\n\nax.tick_params(\"y\", pad = 0)\nax.tick_params(\"both\", length=0, labelsize=16)\nplt.savefig('customer_distribution_combined.png', dpi=300, bbox_inches='tight', transparent=True)\n\nplt.show()"
   },
   "outputs": [
    {
     "data": {
      "image/png": "[encoded data removed]",
      "text/plain": [
       "<Figure size 900x700 with 1 Axes>"
      ]
     },
     "metadata": {},
     "output_type": "display_data"
    }
   ],
   "source": [
    "fig, ax = plt.subplots(figsize=(9, 7))\n",
    "\n",
    "sns.barplot(customer_per_approach, ax=ax)\n",
    "\n",
    "labels = customer_per_approach.astype(str) + \\\n",
    "imputed_df[\"sales_method\"].value_counts(normalize=True).map(lambda x: \" ({:.2%})\".format(x))\n",
    "ax.bar_label(ax.containers[0], labels, fontsize=16)\n",
    "\n",
    "ax.set_title('Customer Distribution per Approach', fontsize=20)\n",
    "ax.set_xlabel('Approach', fontsize=16)\n",
    "ax.set_ylabel('Number of Customers', fontsize=16)\n",
    "\n",
    "for spine in ax.spines.values():\n",
    "    spine.set_visible(False)\n",
    "\n",
    "ax.tick_params(\"y\", pad = 0)\n",
    "ax.tick_params(\"both\", length=0, labelsize=16)\n",
    "plt.savefig('customer_distribution_combined.png', dpi=300, bbox_inches='tight', transparent=True)\n",
    "\n",
    "plt.show()"
   ]
  },
  {
   "cell_type": "markdown",
   "id": "38be92e6-fbf0-43d7-9559-755de25a6f05",
   "metadata": {},
   "source": [
    "- **Number of Customers by Sales Method**\n",
    "1. The number of customers reached via `Email` is **7,466 (50%)**.\n",
    "1. `Call` comes second with **4,962 (33%)** customers.\n",
    "1. The customers reached via `Email + Call` are **2,572 (17%)** customers."
   ]
  },
  {
   "cell_type": "markdown",
   "id": "ce899ad2-0c4b-46d7-bd48-82e1358dfab3",
   "metadata": {},
   "source": [
    "### What does the spread of the revenue look like overall? And for each method?"
   ]
  },
  {
   "cell_type": "code",
   "execution_count": 19,
   "id": "78c3bac8-1c97-49b8-bf94-4d5f94fd4ea6",
   "metadata": {
    "executionCancelledAt": null,
    "executionTime": 33,
    "lastExecutedAt": 1724379515130,
    "lastExecutedByKernel": "3dab053c-f30f-4a60-b856-2703c0989243",
    "lastScheduledRunId": null,
    "lastSuccessfullyExecutedCode": "revenue_spreadness = imputed_df[\"revenue\"]\\\n.agg([range_, \"mean\", \"median\", \"std\", iqr, skewness]).round(2).to_frame().T\\\n.rename(index={\"revenue\": \"total revenue\"})\nrevenue_spreadness_by_approach = imputed_df.groupby(\"sales_method\")[\"revenue\"]\\\n.agg([range_, \"mean\", \"median\", \"std\", iqr, skewness]).round(2)\nspreadness = pd.concat([revenue_spreadness_by_approach, revenue_spreadness])"
   },
   "outputs": [],
   "source": [
    "revenue_spreadness = imputed_df[\"revenue\"]\\\n",
    ".agg([range_, \"mean\", \"median\", \"std\", iqr, skewness]).round(2).to_frame().T\\\n",
    ".rename(index={\"revenue\": \"total revenue\"})\n",
    "revenue_spreadness_by_approach = imputed_df.groupby(\"sales_method\")[\"revenue\"]\\\n",
    ".agg([range_, \"mean\", \"median\", \"std\", iqr, skewness]).round(2)\n",
    "spreadness = pd.concat([revenue_spreadness_by_approach, revenue_spreadness])"
   ]
  },
  {
   "cell_type": "code",
   "execution_count": 20,
   "id": "2fed65e4-1b58-43ce-8567-ac77e83bbb54",
   "metadata": {
    "executionCancelledAt": null,
    "executionTime": 1173,
    "lastExecutedAt": 1724379516726,
    "lastExecutedByKernel": "3dab053c-f30f-4a60-b856-2703c0989243",
    "lastScheduledRunId": null,
    "lastSuccessfullyExecutedCode": "fig, ax = plt.subplots(figsize=(7, 3))\n\nsns.histplot(data=imputed_df, x=\"revenue\", bins=30, edgecolor='black', ax=ax)\n\nax.set_ylabel('Count', fontsize=16) \nax.set_title('Revenue Distribution', fontsize=20) \nax.set_yticks(ax.get_yticks()[1:-1])\nax.tick_params(\"both\", length=0, labelsize=16)\n\nfor spine in ax.spines.values():\n    spine.set_visible(False)\n\nax.set_xlabel('Revenue', fontsize=16) \nax.set_ylabel('Count', fontsize=16) \n\nax.legend([], [], frameon=False)\nax.patch.set_alpha(0) \nplt.savefig('revenue_distribution_hist.png', dpi=300, bbox_inches='tight', transparent=True)\n\nplt.show()\nsep()\nfig, ax = plt.subplots(figsize=(7, 5))\n\nsns.violinplot(data=imputed_df, x=\"revenue\", hue=\"sales_method\", ax=ax)\n\nax.set_title('Revenue Distribution by Sales Method', fontsize=20) \nax.set_xlabel('Revenue', fontsize=16) \nax.set_ylabel('Density', fontsize=16) \nax.set_yticks([])\nax.tick_params(\"both\", length=0, labelsize=16)\n\nfor spine in ax.spines.values():\n    spine.set_visible(False)\n    \nax.legend(title='Sales Method', loc='upper right', frameon=False, fontsize=12) \nax.patch.set_alpha(0) \n\nplt.savefig('revenue_distribution_violin.png', dpi=300, bbox_inches='tight', transparent=True)\nplt.show()",
    "outputsMetadata": {
     "1": {
      "height": 80,
      "type": "stream"
     }
    }
   },
   "outputs": [
    {
     "data": {
      "image/png": "[encoded data removed]",
      "text/plain": [
       "<Figure size 700x300 with 1 Axes>"
      ]
     },
     "metadata": {},
     "output_type": "display_data"
    },
    {
     "name": "stdout",
     "output_type": "stream",
     "text": [
      "\n",
      "+------------------------------------------------------------------------------+\n",
      "\n"
     ]
    },
    {
     "data": {
      "image/png": "[encoded data removed]",
      "text/plain": [
       "<Figure size 700x500 with 1 Axes>"
      ]
     },
     "metadata": {},
     "output_type": "display_data"
    }
   ],
   "source": [
    "fig, ax = plt.subplots(figsize=(7, 3))\n",
    "\n",
    "sns.histplot(data=imputed_df, x=\"revenue\", bins=30, edgecolor='black', ax=ax)\n",
    "\n",
    "ax.set_ylabel('Count', fontsize=16) \n",
    "ax.set_title('Revenue Distribution', fontsize=20) \n",
    "ax.set_yticks(ax.get_yticks()[1:-1])\n",
    "ax.tick_params(\"both\", length=0, labelsize=16)\n",
    "\n",
    "for spine in ax.spines.values():\n",
    "    spine.set_visible(False)\n",
    "\n",
    "ax.set_xlabel('Revenue', fontsize=16) \n",
    "ax.set_ylabel('Count', fontsize=16) \n",
    "\n",
    "ax.legend([], [], frameon=False)\n",
    "ax.patch.set_alpha(0) \n",
    "plt.savefig('revenue_distribution_hist.png', dpi=300, bbox_inches='tight', transparent=True)\n",
    "\n",
    "plt.show()\n",
    "sep()\n",
    "fig, ax = plt.subplots(figsize=(7, 5))\n",
    "\n",
    "sns.violinplot(data=imputed_df, x=\"revenue\", hue=\"sales_method\", ax=ax)\n",
    "\n",
    "ax.set_title('Revenue Distribution by Sales Method', fontsize=20) \n",
    "ax.set_xlabel('Revenue', fontsize=16) \n",
    "ax.set_ylabel('Density', fontsize=16) \n",
    "ax.set_yticks([])\n",
    "ax.tick_params(\"both\", length=0, labelsize=16)\n",
    "\n",
    "for spine in ax.spines.values():\n",
    "    spine.set_visible(False)\n",
    "    \n",
    "ax.legend(title='Sales Method', loc='upper right', frameon=False, fontsize=12) \n",
    "ax.patch.set_alpha(0) \n",
    "\n",
    "plt.savefig('revenue_distribution_violin.png', dpi=300, bbox_inches='tight', transparent=True)\n",
    "plt.show()"
   ]
  },
  {
   "cell_type": "code",
   "execution_count": 21,
   "id": "d564b506-df3d-4d95-810d-633cdbe5d79f",
   "metadata": {
    "executionCancelledAt": null,
    "executionTime": 54,
    "lastExecutedAt": 1724379516781,
    "lastExecutedByKernel": "3dab053c-f30f-4a60-b856-2703c0989243",
    "lastScheduledRunId": null,
    "lastSuccessfullyExecutedCode": "sep()\nprint(\"Revenue Statistics:\")\ndisplay(spreadness.style.background_gradient(axis=0).format(precision=2))",
    "outputsMetadata": {
     "0": {
      "height": 101,
      "type": "stream"
     }
    }
   },
   "outputs": [
    {
     "name": "stdout",
     "output_type": "stream",
     "text": [
      "\n",
      "+------------------------------------------------------------------------------+\n",
      "\n",
      "Revenue Statistics:\n"
     ]
    },
    {
     "data": {
      "text/html": [
       "<style type=\"text/css\">\n",
       "#T_6fb76_row0_col0, #T_6fb76_row0_col1, #T_6fb76_row0_col2, #T_6fb76_row0_col3, #T_6fb76_row0_col4, #T_6fb76_row2_col5 {\n",
       "  background-color: #fff7fb;\n",
       "  color: #000000;\n",
       "}\n",
       "#T_6fb76_row0_col5 {\n",
       "  background-color: #b7c5df;\n",
       "  color: #000000;\n",
       "}\n",
       "#T_6fb76_row1_col0 {\n",
       "  background-color: #f9f2f8;\n",
       "  color: #000000;\n",
       "}\n",
       "#T_6fb76_row1_col1 {\n",
       "  background-color: #a9bfdc;\n",
       "  color: #000000;\n",
       "}\n",
       "#T_6fb76_row1_col2 {\n",
       "  background-color: #b0c2de;\n",
       "  color: #000000;\n",
       "}\n",
       "#T_6fb76_row1_col3 {\n",
       "  background-color: #f7f0f7;\n",
       "  color: #000000;\n",
       "}\n",
       "#T_6fb76_row1_col4 {\n",
       "  background-color: #ebe6f2;\n",
       "  color: #000000;\n",
       "}\n",
       "#T_6fb76_row1_col5 {\n",
       "  background-color: #2383ba;\n",
       "  color: #f1f1f1;\n",
       "}\n",
       "#T_6fb76_row2_col0 {\n",
       "  background-color: #94b6d7;\n",
       "  color: #000000;\n",
       "}\n",
       "#T_6fb76_row2_col1, #T_6fb76_row2_col2, #T_6fb76_row3_col0, #T_6fb76_row3_col3, #T_6fb76_row3_col4, #T_6fb76_row3_col5 {\n",
       "  background-color: #023858;\n",
       "  color: #f1f1f1;\n",
       "}\n",
       "#T_6fb76_row2_col3 {\n",
       "  background-color: #79abd0;\n",
       "  color: #f1f1f1;\n",
       "}\n",
       "#T_6fb76_row2_col4 {\n",
       "  background-color: #6fa7ce;\n",
       "  color: #f1f1f1;\n",
       "}\n",
       "#T_6fb76_row3_col1 {\n",
       "  background-color: #adc1dd;\n",
       "  color: #000000;\n",
       "}\n",
       "#T_6fb76_row3_col2 {\n",
       "  background-color: #bdc8e1;\n",
       "  color: #000000;\n",
       "}\n",
       "</style>\n",
       "<table id=\"T_6fb76\">\n",
       "  <thead>\n",
       "    <tr>\n",
       "      <th class=\"blank level0\" >&nbsp;</th>\n",
       "      <th id=\"T_6fb76_level0_col0\" class=\"col_heading level0 col0\" >range</th>\n",
       "      <th id=\"T_6fb76_level0_col1\" class=\"col_heading level0 col1\" >mean</th>\n",
       "      <th id=\"T_6fb76_level0_col2\" class=\"col_heading level0 col2\" >median</th>\n",
       "      <th id=\"T_6fb76_level0_col3\" class=\"col_heading level0 col3\" >std</th>\n",
       "      <th id=\"T_6fb76_level0_col4\" class=\"col_heading level0 col4\" >iqr</th>\n",
       "      <th id=\"T_6fb76_level0_col5\" class=\"col_heading level0 col5\" >skewness</th>\n",
       "    </tr>\n",
       "  </thead>\n",
       "  <tbody>\n",
       "    <tr>\n",
       "      <th id=\"T_6fb76_level0_row0\" class=\"row_heading level0 row0\" >Call</th>\n",
       "      <td id=\"T_6fb76_row0_col0\" class=\"data row0 col0\" >45.24</td>\n",
       "      <td id=\"T_6fb76_row0_col1\" class=\"data row0 col1\" >47.56</td>\n",
       "      <td id=\"T_6fb76_row0_col2\" class=\"data row0 col2\" >49.26</td>\n",
       "      <td id=\"T_6fb76_row0_col3\" class=\"data row0 col3\" >8.86</td>\n",
       "      <td id=\"T_6fb76_row0_col4\" class=\"data row0 col4\" >11.31</td>\n",
       "      <td id=\"T_6fb76_row0_col5\" class=\"data row0 col5\" >0.39</td>\n",
       "    </tr>\n",
       "    <tr>\n",
       "      <th id=\"T_6fb76_level0_row1\" class=\"row_heading level0 row1\" >Email</th>\n",
       "      <td id=\"T_6fb76_row1_col0\" class=\"data row1 col0\" >52.30</td>\n",
       "      <td id=\"T_6fb76_row1_col1\" class=\"data row1 col1\" >97.38</td>\n",
       "      <td id=\"T_6fb76_row1_col2\" class=\"data row1 col2\" >95.80</td>\n",
       "      <td id=\"T_6fb76_row1_col3\" class=\"data row1 col3\" >11.13</td>\n",
       "      <td id=\"T_6fb76_row1_col4\" class=\"data row1 col4\" >17.19</td>\n",
       "      <td id=\"T_6fb76_row1_col5\" class=\"data row1 col5\" >0.71</td>\n",
       "    </tr>\n",
       "    <tr>\n",
       "      <th id=\"T_6fb76_level0_row2\" class=\"row_heading level0 row2\" >Email + Call</th>\n",
       "      <td id=\"T_6fb76_row2_col0\" class=\"data row2 col0\" >116.21</td>\n",
       "      <td id=\"T_6fb76_row2_col1\" class=\"data row2 col1\" >183.31</td>\n",
       "      <td id=\"T_6fb76_row2_col2\" class=\"data row2 col2\" >184.46</td>\n",
       "      <td id=\"T_6fb76_row2_col3\" class=\"data row2 col3\" >27.84</td>\n",
       "      <td id=\"T_6fb76_row2_col4\" class=\"data row2 col4\" >34.08</td>\n",
       "      <td id=\"T_6fb76_row2_col5\" class=\"data row2 col5\" >0.09</td>\n",
       "    </tr>\n",
       "    <tr>\n",
       "      <th id=\"T_6fb76_level0_row3\" class=\"row_heading level0 row3\" >total revenue</th>\n",
       "      <td id=\"T_6fb76_row3_col0\" class=\"data row3 col0\" >213.90</td>\n",
       "      <td id=\"T_6fb76_row3_col1\" class=\"data row3 col1\" >95.64</td>\n",
       "      <td id=\"T_6fb76_row3_col2\" class=\"data row3 col2\" >90.70</td>\n",
       "      <td id=\"T_6fb76_row3_col3\" class=\"data row3 col3\" >48.01</td>\n",
       "      <td id=\"T_6fb76_row3_col4\" class=\"data row3 col4\" >55.86</td>\n",
       "      <td id=\"T_6fb76_row3_col5\" class=\"data row3 col5\" >1.01</td>\n",
       "    </tr>\n",
       "  </tbody>\n",
       "</table>\n"
      ],
      "text/plain": [
       "<pandas.io.formats.style.Styler at 0x24636aff3e0>"
      ]
     },
     "metadata": {},
     "output_type": "display_data"
    }
   ],
   "source": [
    "sep()\n",
    "print(\"Revenue Statistics:\")\n",
    "display(spreadness.style.background_gradient(axis=0).format(precision=2))"
   ]
  },
  {
   "cell_type": "markdown",
   "id": "b72fde62-4d01-48eb-81f9-688307b0a1e5",
   "metadata": {},
   "source": [
    "- **`Revenue Distribution`**\n",
    "1. The revenue distribution is **positively** skewed with a skewness value of 1. This indicates that the distribution has a longer tail on the right.\n",
    "1. The histogram of revenue shows a multimodal distribution with modes around 40-55 USD, 80-95 USD, and 180-190 USD.\n",
    "\n",
    "- **`Revenue by Method`**\n",
    "1. `Call`: **Slightly skewed** with skewness value of 0.4.\n",
    "1. `Email`: **moderately skewed** with skewness value of 0.7.\n",
    "1. `Email + Call`: Shows **no skewness** with a skewness value of 0.1.\n",
    "\n",
    "- The violin plot indicates that the major modes in the revenue distribution arise from the distribution of each group. \n",
    "    - It helps to highlight the variations in revenue across different contact methods.\n",
    "\n",
    ">skewness is computed as Fisher-Pearson coefficient of skewness."
   ]
  },
  {
   "cell_type": "markdown",
   "id": "1c5cacf2-ba12-446a-a6c6-6de69ee870cb",
   "metadata": {},
   "source": [
    "### Was there any difference in revenue over time for each of the methods?"
   ]
  },
  {
   "cell_type": "code",
   "execution_count": 22,
   "id": "8dab3003-eba7-49b4-8936-532a2fe09101",
   "metadata": {
    "executionCancelledAt": null,
    "executionTime": 52,
    "lastExecutedAt": 1724379516833,
    "lastExecutedByKernel": "3dab053c-f30f-4a60-b856-2703c0989243",
    "lastScheduledRunId": null,
    "lastSuccessfullyExecutedCode": "method_vs_time = imputed_df.groupby([\"sales_method\", \"week\"])[\"revenue\"].agg(\"sum\").to_frame()\nmethod_vs_time_pivot = imputed_df.pivot_table(index=\"week\", columns=\"sales_method\", \n                                              values=\"revenue\", aggfunc=\"sum\", \n                                              margins=\"sum\", margins_name=\"Total\")\n"
   },
   "outputs": [],
   "source": [
    "method_vs_time = imputed_df.groupby([\"sales_method\", \"week\"])[\"revenue\"].agg(\"sum\").to_frame()\n",
    "method_vs_time_pivot = imputed_df.pivot_table(index=\"week\", columns=\"sales_method\", \n",
    "                                              values=\"revenue\", aggfunc=\"sum\", \n",
    "                                              margins=\"sum\", margins_name=\"Total\")\n"
   ]
  },
  {
   "cell_type": "code",
   "execution_count": 23,
   "id": "fa662369-0b50-41bd-bfe6-cfd9bf57f050",
   "metadata": {
    "executionCancelledAt": null,
    "executionTime": 1049,
    "lastExecutedAt": 1724379518254,
    "lastExecutedByKernel": "3dab053c-f30f-4a60-b856-2703c0989243",
    "lastScheduledRunId": null,
    "lastSuccessfullyExecutedCode": "fig, ax = plt.subplots(figsize=(7, 5))\n\nsns.lineplot(data=method_vs_time, x=\"week\", y=\"revenue\", hue=\"sales_method\", hue_order=[\"Call\", \"Email\", \"Email + Call\"], ax=ax)\n\nax.set_title('Weekly Revenue by Sales Method', fontsize=20)\nax.set_xlabel('Week', fontsize=16)\nax.set_ylabel('Revenue', fontsize=16)\n\nax.tick_params(\"both\", length=0, labelsize=16)\n\nfor spine in ax.spines.values():\n    spine.set_visible(False)\nax.patch.set_alpha(0) \n\nax.legend(frameon=False, fontsize=12)\n\nplt.savefig('revenue_time(week)_by_approach.png', dpi=300, bbox_inches='tight', transparent=True)\nplt.show()"
   },
   "outputs": [
    {
     "data": {
      "image/png": "[encoded data removed]",
      "text/plain": [
       "<Figure size 700x500 with 1 Axes>"
      ]
     },
     "metadata": {},
     "output_type": "display_data"
    }
   ],
   "source": [
    "fig, ax = plt.subplots(figsize=(7, 5))\n",
    "\n",
    "sns.lineplot(data=method_vs_time, x=\"week\", y=\"revenue\", hue=\"sales_method\", hue_order=[\"Call\", \"Email\", \"Email + Call\"], ax=ax)\n",
    "\n",
    "ax.set_title('Weekly Revenue by Sales Method', fontsize=20)\n",
    "ax.set_xlabel('Week', fontsize=16)\n",
    "ax.set_ylabel('Revenue', fontsize=16)\n",
    "\n",
    "ax.tick_params(\"both\", length=0, labelsize=16)\n",
    "\n",
    "for spine in ax.spines.values():\n",
    "    spine.set_visible(False)\n",
    "ax.patch.set_alpha(0) \n",
    "\n",
    "ax.legend(frameon=False, fontsize=12)\n",
    "\n",
    "plt.savefig('revenue_time(week)_by_approach.png', dpi=300, bbox_inches='tight', transparent=True)\n",
    "plt.show()"
   ]
  },
  {
   "cell_type": "code",
   "execution_count": 24,
   "id": "8a88bdbe-0fff-4f45-a367-1c24b9a98f3a",
   "metadata": {
    "executionCancelledAt": null,
    "executionTime": 59,
    "lastExecutedAt": 1724379518313,
    "lastExecutedByKernel": "3dab053c-f30f-4a60-b856-2703c0989243",
    "lastScheduledRunId": null,
    "lastSuccessfullyExecutedCode": "sep()\n\nprint(\"Weekly Revenue Table\\n\\\nHere is the detailed breakdown of revenue by sales method and week:\")\nmethod_vs_time_pivot.style.background_gradient(axis=0, subset=(method_vs_time_pivot.index[:-1],\n                                                              method_vs_time_pivot.columns[:]))\\\n.format(precision=0, thousands=\",\")",
    "outputsMetadata": {
     "0": {
      "height": 122,
      "type": "stream"
     }
    }
   },
   "outputs": [
    {
     "name": "stdout",
     "output_type": "stream",
     "text": [
      "\n",
      "+------------------------------------------------------------------------------+\n",
      "\n",
      "Weekly Revenue Table\n",
      "Here is the detailed breakdown of revenue by sales method and week:\n"
     ]
    },
    {
     "data": {
      "text/html": [
       "<style type=\"text/css\">\n",
       "#T_1db03_row0_col0, #T_1db03_row0_col2, #T_1db03_row5_col1, #T_1db03_row5_col3 {\n",
       "  background-color: #fff7fb;\n",
       "  color: #000000;\n",
       "}\n",
       "#T_1db03_row0_col1, #T_1db03_row0_col3, #T_1db03_row4_col0, #T_1db03_row4_col2 {\n",
       "  background-color: #023858;\n",
       "  color: #f1f1f1;\n",
       "}\n",
       "#T_1db03_row1_col0 {\n",
       "  background-color: #c4cbe3;\n",
       "  color: #000000;\n",
       "}\n",
       "#T_1db03_row1_col1 {\n",
       "  background-color: #589ec8;\n",
       "  color: #f1f1f1;\n",
       "}\n",
       "#T_1db03_row1_col2 {\n",
       "  background-color: #f1ebf5;\n",
       "  color: #000000;\n",
       "}\n",
       "#T_1db03_row1_col3 {\n",
       "  background-color: #c9cee4;\n",
       "  color: #000000;\n",
       "}\n",
       "#T_1db03_row2_col0 {\n",
       "  background-color: #a7bddb;\n",
       "  color: #000000;\n",
       "}\n",
       "#T_1db03_row2_col1 {\n",
       "  background-color: #a8bedc;\n",
       "  color: #000000;\n",
       "}\n",
       "#T_1db03_row2_col2 {\n",
       "  background-color: #c8cde4;\n",
       "  color: #000000;\n",
       "}\n",
       "#T_1db03_row2_col3 {\n",
       "  background-color: #ede7f2;\n",
       "  color: #000000;\n",
       "}\n",
       "#T_1db03_row3_col0 {\n",
       "  background-color: #045b8f;\n",
       "  color: #f1f1f1;\n",
       "}\n",
       "#T_1db03_row3_col1 {\n",
       "  background-color: #96b6d7;\n",
       "  color: #000000;\n",
       "}\n",
       "#T_1db03_row3_col2 {\n",
       "  background-color: #5c9fc9;\n",
       "  color: #f1f1f1;\n",
       "}\n",
       "#T_1db03_row3_col3 {\n",
       "  background-color: #2182b9;\n",
       "  color: #f1f1f1;\n",
       "}\n",
       "#T_1db03_row4_col1 {\n",
       "  background-color: #d0d1e6;\n",
       "  color: #000000;\n",
       "}\n",
       "#T_1db03_row4_col3 {\n",
       "  background-color: #034e7b;\n",
       "  color: #f1f1f1;\n",
       "}\n",
       "#T_1db03_row5_col0 {\n",
       "  background-color: #efe9f3;\n",
       "  color: #000000;\n",
       "}\n",
       "#T_1db03_row5_col2 {\n",
       "  background-color: #045a8d;\n",
       "  color: #f1f1f1;\n",
       "}\n",
       "</style>\n",
       "<table id=\"T_1db03\">\n",
       "  <thead>\n",
       "    <tr>\n",
       "      <th class=\"index_name level0\" >sales_method</th>\n",
       "      <th id=\"T_1db03_level0_col0\" class=\"col_heading level0 col0\" >Call</th>\n",
       "      <th id=\"T_1db03_level0_col1\" class=\"col_heading level0 col1\" >Email</th>\n",
       "      <th id=\"T_1db03_level0_col2\" class=\"col_heading level0 col2\" >Email + Call</th>\n",
       "      <th id=\"T_1db03_level0_col3\" class=\"col_heading level0 col3\" >Total</th>\n",
       "    </tr>\n",
       "    <tr>\n",
       "      <th class=\"index_name level0\" >week</th>\n",
       "      <th class=\"blank col0\" >&nbsp;</th>\n",
       "      <th class=\"blank col1\" >&nbsp;</th>\n",
       "      <th class=\"blank col2\" >&nbsp;</th>\n",
       "      <th class=\"blank col3\" >&nbsp;</th>\n",
       "    </tr>\n",
       "  </thead>\n",
       "  <tbody>\n",
       "    <tr>\n",
       "      <th id=\"T_1db03_level0_row0\" class=\"row_heading level0 row0\" >1</th>\n",
       "      <td id=\"T_1db03_row0_col0\" class=\"data row0 col0\" >26,603</td>\n",
       "      <td id=\"T_1db03_row0_col1\" class=\"data row0 col1\" >246,739</td>\n",
       "      <td id=\"T_1db03_row0_col2\" class=\"data row0 col2\" >19,345</td>\n",
       "      <td id=\"T_1db03_row0_col3\" class=\"data row0 col3\" >292,688</td>\n",
       "    </tr>\n",
       "    <tr>\n",
       "      <th id=\"T_1db03_level0_row1\" class=\"row_heading level0 row1\" >2</th>\n",
       "      <td id=\"T_1db03_row1_col0\" class=\"data row1 col0\" >34,918</td>\n",
       "      <td id=\"T_1db03_row1_col1\" class=\"data row1 col1\" >149,045</td>\n",
       "      <td id=\"T_1db03_row1_col2\" class=\"data row1 col2\" >30,960</td>\n",
       "      <td id=\"T_1db03_row1_col3\" class=\"data row1 col3\" >214,922</td>\n",
       "    </tr>\n",
       "    <tr>\n",
       "      <th id=\"T_1db03_level0_row2\" class=\"row_heading level0 row2\" >3</th>\n",
       "      <td id=\"T_1db03_row2_col0\" class=\"data row2 col0\" >37,402</td>\n",
       "      <td id=\"T_1db03_row2_col1\" class=\"data row2 col1\" >107,225</td>\n",
       "      <td id=\"T_1db03_row2_col2\" class=\"data row2 col2\" >54,284</td>\n",
       "      <td id=\"T_1db03_row2_col3\" class=\"data row2 col3\" >198,911</td>\n",
       "    </tr>\n",
       "    <tr>\n",
       "      <th id=\"T_1db03_level0_row3\" class=\"row_heading level0 row3\" >4</th>\n",
       "      <td id=\"T_1db03_row3_col0\" class=\"data row3 col0\" >51,719</td>\n",
       "      <td id=\"T_1db03_row3_col1\" class=\"data row3 col1\" >117,336</td>\n",
       "      <td id=\"T_1db03_row3_col2\" class=\"data row3 col2\" >89,274</td>\n",
       "      <td id=\"T_1db03_row3_col3\" class=\"data row3 col3\" >258,330</td>\n",
       "    </tr>\n",
       "    <tr>\n",
       "      <th id=\"T_1db03_level0_row4\" class=\"row_heading level0 row4\" >5</th>\n",
       "      <td id=\"T_1db03_row4_col0\" class=\"data row4 col0\" >55,666</td>\n",
       "      <td id=\"T_1db03_row4_col1\" class=\"data row4 col1\" >81,214</td>\n",
       "      <td id=\"T_1db03_row4_col2\" class=\"data row4 col2\" >147,032</td>\n",
       "      <td id=\"T_1db03_row4_col3\" class=\"data row4 col3\" >283,913</td>\n",
       "    </tr>\n",
       "    <tr>\n",
       "      <th id=\"T_1db03_level0_row5\" class=\"row_heading level0 row5\" >6</th>\n",
       "      <td id=\"T_1db03_row5_col0\" class=\"data row5 col0\" >29,708</td>\n",
       "      <td id=\"T_1db03_row5_col1\" class=\"data row5 col1\" >25,488</td>\n",
       "      <td id=\"T_1db03_row5_col2\" class=\"data row5 col2\" >130,583</td>\n",
       "      <td id=\"T_1db03_row5_col3\" class=\"data row5 col3\" >185,779</td>\n",
       "    </tr>\n",
       "    <tr>\n",
       "      <th id=\"T_1db03_level0_row6\" class=\"row_heading level0 row6\" >Total</th>\n",
       "      <td id=\"T_1db03_row6_col0\" class=\"data row6 col0\" >236,016</td>\n",
       "      <td id=\"T_1db03_row6_col1\" class=\"data row6 col1\" >727,047</td>\n",
       "      <td id=\"T_1db03_row6_col2\" class=\"data row6 col2\" >471,479</td>\n",
       "      <td id=\"T_1db03_row6_col3\" class=\"data row6 col3\" >1,434,542</td>\n",
       "    </tr>\n",
       "  </tbody>\n",
       "</table>\n"
      ],
      "text/plain": [
       "<pandas.io.formats.style.Styler at 0x2463aba70b0>"
      ]
     },
     "execution_count": 24,
     "metadata": {},
     "output_type": "execute_result"
    }
   ],
   "source": [
    "sep()\n",
    "\n",
    "print(\"Weekly Revenue Table\\n\\\n",
    "Here is the detailed breakdown of revenue by sales method and week:\")\n",
    "method_vs_time_pivot.style.background_gradient(axis=0, subset=(method_vs_time_pivot.index[:-1],\n",
    "                                                              method_vs_time_pivot.columns[:]))\\\n",
    ".format(precision=0, thousands=\",\")"
   ]
  },
  {
   "cell_type": "markdown",
   "id": "e86637bf-a70b-4f6f-931a-2e9212608d7e",
   "metadata": {},
   "source": [
    "- **Trends and Insights**\n",
    "1. `Email`:\n",
    "    - Trend: There is a rapid revenue increase in the first week, followed by a sharp decline with slight growth in weeks 4.\n",
    "    - Investigation Needed: Investigate if initial promotions or campaigns led to high early revenue and understand the reasons for the subsequent decline.\n",
    "1. `Call`:\n",
    "    - Trend: Revenue shows steady performance with slight growth in weeks 4 and 5.\n",
    "    - Investigation Needed: Explore factors contributing to the steady performance and the reasons for growth in specific weeks.\n",
    "1. `Email + Call`:\n",
    "    - Trend: Revenue grows from weeks 2 to 5, followed by a decline.\n",
    "    - Investigation Needed: Analyze the combined effect of both methods and the reasons behind the decline after week 5.\n",
    "\n",
    "- **Week 6 Decline**:\n",
    "    - Trend: Revenue declines across all methods in week 6.\n",
    "    - Investigation Needed: Check for external factors or seasonal effects that might be impacting revenue in week 6."
   ]
  },
  {
   "cell_type": "code",
   "execution_count": 25,
   "id": "b7119aa1-c52c-4e3e-8bb7-a4c7617b2cd1",
   "metadata": {
    "executionCancelledAt": null,
    "executionTime": 18,
    "lastExecutedAt": 1724379519149,
    "lastExecutedByKernel": "3dab053c-f30f-4a60-b856-2703c0989243",
    "lastScheduledRunId": null,
    "lastSuccessfullyExecutedCode": "avg_revenue = imputed_df.pivot_table(index=\"week\", columns=\"sales_method\", values=\"revenue\")\navg_growth = avg_revenue.diff(axis=0)\navg_growth.loc[1, :] = avg_revenue.loc[1, :].copy()"
   },
   "outputs": [],
   "source": [
    "avg_revenue = imputed_df.pivot_table(index=\"week\", columns=\"sales_method\", values=\"revenue\")\n",
    "avg_growth = avg_revenue.diff(axis=0)\n",
    "avg_growth.loc[1, :] = avg_revenue.loc[1, :].copy()"
   ]
  },
  {
   "cell_type": "code",
   "execution_count": 26,
   "id": "004a874a-362c-4d3b-a67d-1916a32db4ae",
   "metadata": {
    "executionCancelledAt": null,
    "executionTime": 695,
    "lastExecutedAt": 1724379521787,
    "lastExecutedByKernel": "3dab053c-f30f-4a60-b856-2703c0989243",
    "lastScheduledRunId": null,
    "lastSuccessfullyExecutedCode": "ax = sns.lineplot(data=imputed_df.groupby([\"week\", \"sales_method\"])[\"revenue\"].mean().reset_index(), x= \"week\", y=\"revenue\", hue=\"sales_method\", hue_order=[\"Call\", \"Email\", \"Email + Call\"])\n\nplt.title(\"Average Revenue per customer across methods\", fontsize=20)\nplt.xlabel(\"Week\", fontsize=16)\nplt.ylabel(\"Average revenue\", fontsize=16)\nax.tick_params(\"both\", length=0, labelsize=16)\n\nfor spine in ax.spines.values():\n    spine.set_visible(False)\nax.patch.set_alpha(0) \n\nax.legend(frameon=False, fontsize=12)\n\nplt.savefig('average_revenue_by_approach_vs_time(week).png', dpi=300, bbox_inches='tight', transparent=True)\nplt.show()"
   },
   "outputs": [
    {
     "data": {
      "image/png": "[encoded data removed]",
      "text/plain": [
       "<Figure size 640x480 with 1 Axes>"
      ]
     },
     "metadata": {},
     "output_type": "display_data"
    }
   ],
   "source": [
    "ax = sns.lineplot(data=imputed_df.groupby([\"week\", \"sales_method\"])[\"revenue\"].mean().reset_index(), x= \"week\", y=\"revenue\", hue=\"sales_method\", hue_order=[\"Call\", \"Email\", \"Email + Call\"])\n",
    "\n",
    "plt.title(\"Average Revenue per customer across methods\", fontsize=20)\n",
    "plt.xlabel(\"Week\", fontsize=16)\n",
    "plt.ylabel(\"Average revenue\", fontsize=16)\n",
    "ax.tick_params(\"both\", length=0, labelsize=16)\n",
    "\n",
    "for spine in ax.spines.values():\n",
    "    spine.set_visible(False)\n",
    "ax.patch.set_alpha(0) \n",
    "\n",
    "ax.legend(frameon=False, fontsize=12)\n",
    "\n",
    "plt.savefig('average_revenue_by_approach_vs_time(week).png', dpi=300, bbox_inches='tight', transparent=True)\n",
    "plt.show()"
   ]
  },
  {
   "cell_type": "code",
   "execution_count": 27,
   "id": "651c6734-e960-4695-b3d9-c10ba5310fbe",
   "metadata": {
    "executionCancelledAt": null,
    "executionTime": 54,
    "lastExecutedAt": 1724379521841,
    "lastExecutedByKernel": "3dab053c-f30f-4a60-b856-2703c0989243",
    "lastScheduledRunId": null,
    "lastSuccessfullyExecutedCode": "sep()\nprint(\"Average Revenue Growth\\n\\\nThe following table shows the average weekly growth in revenue for each method:\" )\ndisplay(avg_growth.style.background_gradient(axis=0, subset=(avg_growth.index[1:], avg_growth.columns)).format(precision=2))",
    "outputsMetadata": {
     "0": {
      "height": 122,
      "type": "stream"
     }
    }
   },
   "outputs": [
    {
     "name": "stdout",
     "output_type": "stream",
     "text": [
      "\n",
      "+------------------------------------------------------------------------------+\n",
      "\n",
      "Average Revenue Growth\n",
      "The following table shows the average weekly growth in revenue for each method:\n"
     ]
    },
    {
     "data": {
      "text/html": [
       "<style type=\"text/css\">\n",
       "#T_e3dee_row1_col0 {\n",
       "  background-color: #1e80b8;\n",
       "  color: #f1f1f1;\n",
       "}\n",
       "#T_e3dee_row1_col1 {\n",
       "  background-color: #0f76b3;\n",
       "  color: #f1f1f1;\n",
       "}\n",
       "#T_e3dee_row1_col2 {\n",
       "  background-color: #2182b9;\n",
       "  color: #f1f1f1;\n",
       "}\n",
       "#T_e3dee_row2_col0, #T_e3dee_row2_col1, #T_e3dee_row2_col2 {\n",
       "  background-color: #fff7fb;\n",
       "  color: #000000;\n",
       "}\n",
       "#T_e3dee_row3_col0 {\n",
       "  background-color: #0567a2;\n",
       "  color: #f1f1f1;\n",
       "}\n",
       "#T_e3dee_row3_col1 {\n",
       "  background-color: #045f95;\n",
       "  color: #f1f1f1;\n",
       "}\n",
       "#T_e3dee_row3_col2 {\n",
       "  background-color: #0567a1;\n",
       "  color: #f1f1f1;\n",
       "}\n",
       "#T_e3dee_row4_col0 {\n",
       "  background-color: #d0d1e6;\n",
       "  color: #000000;\n",
       "}\n",
       "#T_e3dee_row4_col1 {\n",
       "  background-color: #cacee5;\n",
       "  color: #000000;\n",
       "}\n",
       "#T_e3dee_row4_col2 {\n",
       "  background-color: #d1d2e6;\n",
       "  color: #000000;\n",
       "}\n",
       "#T_e3dee_row5_col0, #T_e3dee_row5_col1, #T_e3dee_row5_col2 {\n",
       "  background-color: #023858;\n",
       "  color: #f1f1f1;\n",
       "}\n",
       "</style>\n",
       "<table id=\"T_e3dee\">\n",
       "  <thead>\n",
       "    <tr>\n",
       "      <th class=\"index_name level0\" >sales_method</th>\n",
       "      <th id=\"T_e3dee_level0_col0\" class=\"col_heading level0 col0\" >Call</th>\n",
       "      <th id=\"T_e3dee_level0_col1\" class=\"col_heading level0 col1\" >Email</th>\n",
       "      <th id=\"T_e3dee_level0_col2\" class=\"col_heading level0 col2\" >Email + Call</th>\n",
       "    </tr>\n",
       "    <tr>\n",
       "      <th class=\"index_name level0\" >week</th>\n",
       "      <th class=\"blank col0\" >&nbsp;</th>\n",
       "      <th class=\"blank col1\" >&nbsp;</th>\n",
       "      <th class=\"blank col2\" >&nbsp;</th>\n",
       "    </tr>\n",
       "  </thead>\n",
       "  <tbody>\n",
       "    <tr>\n",
       "      <th id=\"T_e3dee_level0_row0\" class=\"row_heading level0 row0\" >1</th>\n",
       "      <td id=\"T_e3dee_row0_col0\" class=\"data row0 col0\" >35.10</td>\n",
       "      <td id=\"T_e3dee_row0_col1\" class=\"data row0 col1\" >87.65</td>\n",
       "      <td id=\"T_e3dee_row0_col2\" class=\"data row0 col2\" >130.71</td>\n",
       "    </tr>\n",
       "    <tr>\n",
       "      <th id=\"T_e3dee_level0_row1\" class=\"row_heading level0 row1\" >2</th>\n",
       "      <td id=\"T_e3dee_row1_col0\" class=\"data row1 col0\" >8.28</td>\n",
       "      <td id=\"T_e3dee_row1_col1\" class=\"data row1 col1\" >12.65</td>\n",
       "      <td id=\"T_e3dee_row1_col2\" class=\"data row1 col2\" >24.09</td>\n",
       "    </tr>\n",
       "    <tr>\n",
       "      <th id=\"T_e3dee_level0_row2\" class=\"row_heading level0 row2\" >3</th>\n",
       "      <td id=\"T_e3dee_row2_col0\" class=\"data row2 col0\" >-1.91</td>\n",
       "      <td id=\"T_e3dee_row2_col1\" class=\"data row2 col1\" >-7.06</td>\n",
       "      <td id=\"T_e3dee_row2_col2\" class=\"data row2 col2\" >-3.59</td>\n",
       "    </tr>\n",
       "    <tr>\n",
       "      <th id=\"T_e3dee_level0_row3\" class=\"row_heading level0 row3\" >4</th>\n",
       "      <td id=\"T_e3dee_row3_col0\" class=\"data row3 col0\" >10.00</td>\n",
       "      <td id=\"T_e3dee_row3_col1\" class=\"data row3 col1\" >15.91</td>\n",
       "      <td id=\"T_e3dee_row3_col2\" class=\"data row3 col2\" >29.14</td>\n",
       "    </tr>\n",
       "    <tr>\n",
       "      <th id=\"T_e3dee_level0_row4\" class=\"row_heading level0 row4\" >5</th>\n",
       "      <td id=\"T_e3dee_row4_col0\" class=\"data row4 col0\" >1.86</td>\n",
       "      <td id=\"T_e3dee_row4_col1\" class=\"data row4 col1\" >0.16</td>\n",
       "      <td id=\"T_e3dee_row4_col2\" class=\"data row4 col2\" >6.47</td>\n",
       "    </tr>\n",
       "    <tr>\n",
       "      <th id=\"T_e3dee_level0_row5\" class=\"row_heading level0 row5\" >6</th>\n",
       "      <td id=\"T_e3dee_row5_col0\" class=\"data row5 col0\" >12.99</td>\n",
       "      <td id=\"T_e3dee_row5_col1\" class=\"data row5 col1\" >20.07</td>\n",
       "      <td id=\"T_e3dee_row5_col2\" class=\"data row5 col2\" >37.16</td>\n",
       "    </tr>\n",
       "  </tbody>\n",
       "</table>\n"
      ],
      "text/plain": [
       "<pandas.io.formats.style.Styler at 0x2463abe9d90>"
      ]
     },
     "metadata": {},
     "output_type": "display_data"
    }
   ],
   "source": [
    "sep()\n",
    "print(\"Average Revenue Growth\\n\\\n",
    "The following table shows the average weekly growth in revenue for each method:\" )\n",
    "display(avg_growth.style.background_gradient(axis=0, subset=(avg_growth.index[1:], avg_growth.columns)).format(precision=2))"
   ]
  },
  {
   "cell_type": "markdown",
   "id": "94174580-1d67-482a-b203-e31044ad976e",
   "metadata": {},
   "source": [
    "- **Summary**\n",
    "    1. The average revenue per week indicates that all methods show an increase in average revenue over time.\n",
    "    1. The average revenue growth is higher for `Email + Call` compared to `Email` alone, and `Email` has a higher growth compared to `Call`.\n",
    "\n",
    "- This analysis suggests that the combined method of `Email + Call` results in the highest average revenue growth, with a notable increase in total revenue compared to the other methods.\n",
    "- `Call` shows  the most consistent high growth rates, making it a strong candidate for continued use if maximizing growth is the priority.\n",
    "- `Email + Call` is a viable option, if meant to balance total revenue reach and growth while managing resources efficiently.\n",
    "\n",
    "---"
   ]
  },
  {
   "cell_type": "markdown",
   "id": "c47e3e40-7c95-4ab2-96fd-9c6394b51a73",
   "metadata": {},
   "source": [
    "## Based on the data, which method would you recommend we continue to use? \n",
    "- Some of these methods take more time from the team so they may not be the best for us to use if the results are similar."
   ]
  },
  {
   "cell_type": "markdown",
   "id": "0786fc73-2f69-4421-a81d-6591d4c749ca",
   "metadata": {},
   "source": [
    "**Given the analysis:**\n",
    "\n",
    "- **Revenue and Growth:**\n",
    "  - **`Email + Call`** method has the highest average revenue and total average revenue growth. Despite the higher time investment, the revenue return justifies its use if the budget allows for it.\n",
    "  - **Email Only** and **Call Only** methods show lower average revenue and growth. `Email` alone offers higher average revenue but lacks consistency. Call only provides steadiness but at a lower revenue return.\n",
    "\n",
    "- **Time vs. Return:**\n",
    "  - If the team’s time is a significant constraint, focusing on **Email Only** might be a reasonable compromise. It requires less time than **`Email + Call`** and still provides a decent average revenue, though it lacks the consistency and higher revenue of **`Email + Call`**.\n",
    "\n",
    "### Final Recommendation\n",
    "- **Primary Recommendation:** Continue with the **`Email + Call`** method for its superior revenue results and growth potential. Ensure efficient use of resources by optimizing the process where possible.\n",
    "- **Secondary Option:** If time constraints are severe, consider shifting to the **Email Only** method, which still yields substantial revenue with lower team effort. \n",
    "\n",
    "---"
   ]
  },
  {
   "cell_type": "markdown",
   "id": "964b46b7-5966-4071-8ccf-32b148f21a05",
   "metadata": {},
   "source": [
    "## Definition of a metric for the business to monitor"
   ]
  },
  {
   "cell_type": "code",
   "execution_count": 28,
   "id": "797f339f-e0cc-49e2-b063-a2a4039ed8c6",
   "metadata": {
    "executionCancelledAt": null,
    "executionTime": 54,
    "lastExecutedAt": 1724379548317,
    "lastExecutedByKernel": "3dab053c-f30f-4a60-b856-2703c0989243",
    "lastScheduledRunId": null,
    "lastSuccessfullyExecutedCode": "avg_revenue_per_customer = imputed_df.pivot_table(index=\"week\", columns=\"sales_method\", values=\"revenue\", aggfunc=\"mean\")\ntotal_revenue = imputed_df.pivot_table(index=\"week\", columns=\"sales_method\", values=\"revenue\", aggfunc=\"sum\", margins=\"sum\", margins_name=\"Total\").drop(\"Total\")\ngrowth_rate  = (total_revenue / total_revenue.shift(1)).dropna() - 1\n"
   },
   "outputs": [],
   "source": [
    "avg_revenue_per_customer = imputed_df.pivot_table(index=\"week\", columns=\"sales_method\", values=\"revenue\", aggfunc=\"mean\")\n",
    "total_revenue = imputed_df.pivot_table(index=\"week\", columns=\"sales_method\", values=\"revenue\", aggfunc=\"sum\", margins=\"sum\", margins_name=\"Total\").drop(\"Total\")\n",
    "growth_rate  = (total_revenue / total_revenue.shift(1)).dropna() - 1\n"
   ]
  },
  {
   "cell_type": "code",
   "execution_count": 29,
   "id": "bfff2a2a-bac9-4542-99e8-f3d0fea5868f",
   "metadata": {
    "executionCancelledAt": null,
    "executionTime": 33,
    "lastExecutedAt": 1724379548810,
    "lastExecutedByKernel": "3dab053c-f30f-4a60-b856-2703c0989243",
    "lastScheduledRunId": null,
    "lastSuccessfullyExecutedCode": "print(\"1. Average Revenue per Customer:\")\ndisplay(avg_revenue_per_customer.style.background_gradient(axis=0).format(precision=2))\nsep()\nprint(\"2. Revenue Growth Rate:\")\ndisplay(growth_rate.style.background_gradient(axis=0).format(precision=2))\nsep()",
    "outputsMetadata": {
     "0": {
      "height": 38,
      "type": "stream"
     },
     "2": {
      "height": 101,
      "type": "stream"
     },
     "4": {
      "height": 80,
      "type": "stream"
     }
    }
   },
   "outputs": [
    {
     "name": "stdout",
     "output_type": "stream",
     "text": [
      "1. Average Revenue per Customer:\n"
     ]
    },
    {
     "data": {
      "text/html": [
       "<style type=\"text/css\">\n",
       "#T_30e52_row0_col0, #T_30e52_row0_col1, #T_30e52_row0_col2 {\n",
       "  background-color: #fff7fb;\n",
       "  color: #000000;\n",
       "}\n",
       "#T_30e52_row1_col0 {\n",
       "  background-color: #cccfe5;\n",
       "  color: #000000;\n",
       "}\n",
       "#T_30e52_row1_col1 {\n",
       "  background-color: #bfc9e1;\n",
       "  color: #000000;\n",
       "}\n",
       "#T_30e52_row1_col2 {\n",
       "  background-color: #cdd0e5;\n",
       "  color: #000000;\n",
       "}\n",
       "#T_30e52_row2_col0 {\n",
       "  background-color: #dad9ea;\n",
       "  color: #000000;\n",
       "}\n",
       "#T_30e52_row2_col1 {\n",
       "  background-color: #eae6f1;\n",
       "  color: #000000;\n",
       "}\n",
       "#T_30e52_row2_col2 {\n",
       "  background-color: #d7d6e9;\n",
       "  color: #000000;\n",
       "}\n",
       "#T_30e52_row3_col0 {\n",
       "  background-color: #67a4cc;\n",
       "  color: #f1f1f1;\n",
       "}\n",
       "#T_30e52_row3_col1 {\n",
       "  background-color: #6da6cd;\n",
       "  color: #f1f1f1;\n",
       "}\n",
       "#T_30e52_row3_col2 {\n",
       "  background-color: #63a2cb;\n",
       "  color: #f1f1f1;\n",
       "}\n",
       "#T_30e52_row4_col0 {\n",
       "  background-color: #4a98c5;\n",
       "  color: #f1f1f1;\n",
       "}\n",
       "#T_30e52_row4_col1 {\n",
       "  background-color: #6ba5cd;\n",
       "  color: #f1f1f1;\n",
       "}\n",
       "#T_30e52_row4_col2 {\n",
       "  background-color: #4094c3;\n",
       "  color: #f1f1f1;\n",
       "}\n",
       "#T_30e52_row5_col0, #T_30e52_row5_col1, #T_30e52_row5_col2 {\n",
       "  background-color: #023858;\n",
       "  color: #f1f1f1;\n",
       "}\n",
       "</style>\n",
       "<table id=\"T_30e52\">\n",
       "  <thead>\n",
       "    <tr>\n",
       "      <th class=\"index_name level0\" >sales_method</th>\n",
       "      <th id=\"T_30e52_level0_col0\" class=\"col_heading level0 col0\" >Call</th>\n",
       "      <th id=\"T_30e52_level0_col1\" class=\"col_heading level0 col1\" >Email</th>\n",
       "      <th id=\"T_30e52_level0_col2\" class=\"col_heading level0 col2\" >Email + Call</th>\n",
       "    </tr>\n",
       "    <tr>\n",
       "      <th class=\"index_name level0\" >week</th>\n",
       "      <th class=\"blank col0\" >&nbsp;</th>\n",
       "      <th class=\"blank col1\" >&nbsp;</th>\n",
       "      <th class=\"blank col2\" >&nbsp;</th>\n",
       "    </tr>\n",
       "  </thead>\n",
       "  <tbody>\n",
       "    <tr>\n",
       "      <th id=\"T_30e52_level0_row0\" class=\"row_heading level0 row0\" >1</th>\n",
       "      <td id=\"T_30e52_row0_col0\" class=\"data row0 col0\" >35.10</td>\n",
       "      <td id=\"T_30e52_row0_col1\" class=\"data row0 col1\" >87.65</td>\n",
       "      <td id=\"T_30e52_row0_col2\" class=\"data row0 col2\" >130.71</td>\n",
       "    </tr>\n",
       "    <tr>\n",
       "      <th id=\"T_30e52_level0_row1\" class=\"row_heading level0 row1\" >2</th>\n",
       "      <td id=\"T_30e52_row1_col0\" class=\"data row1 col0\" >43.38</td>\n",
       "      <td id=\"T_30e52_row1_col1\" class=\"data row1 col1\" >100.30</td>\n",
       "      <td id=\"T_30e52_row1_col2\" class=\"data row1 col2\" >154.80</td>\n",
       "    </tr>\n",
       "    <tr>\n",
       "      <th id=\"T_30e52_level0_row2\" class=\"row_heading level0 row2\" >3</th>\n",
       "      <td id=\"T_30e52_row2_col0\" class=\"data row2 col0\" >41.47</td>\n",
       "      <td id=\"T_30e52_row2_col1\" class=\"data row2 col1\" >93.24</td>\n",
       "      <td id=\"T_30e52_row2_col2\" class=\"data row2 col2\" >151.21</td>\n",
       "    </tr>\n",
       "    <tr>\n",
       "      <th id=\"T_30e52_level0_row3\" class=\"row_heading level0 row3\" >4</th>\n",
       "      <td id=\"T_30e52_row3_col0\" class=\"data row3 col0\" >51.46</td>\n",
       "      <td id=\"T_30e52_row3_col1\" class=\"data row3 col1\" >109.15</td>\n",
       "      <td id=\"T_30e52_row3_col2\" class=\"data row3 col2\" >180.35</td>\n",
       "    </tr>\n",
       "    <tr>\n",
       "      <th id=\"T_30e52_level0_row4\" class=\"row_heading level0 row4\" >5</th>\n",
       "      <td id=\"T_30e52_row4_col0\" class=\"data row4 col0\" >53.32</td>\n",
       "      <td id=\"T_30e52_row4_col1\" class=\"data row4 col1\" >109.31</td>\n",
       "      <td id=\"T_30e52_row4_col2\" class=\"data row4 col2\" >186.83</td>\n",
       "    </tr>\n",
       "    <tr>\n",
       "      <th id=\"T_30e52_level0_row5\" class=\"row_heading level0 row5\" >6</th>\n",
       "      <td id=\"T_30e52_row5_col0\" class=\"data row5 col0\" >66.31</td>\n",
       "      <td id=\"T_30e52_row5_col1\" class=\"data row5 col1\" >129.38</td>\n",
       "      <td id=\"T_30e52_row5_col2\" class=\"data row5 col2\" >223.98</td>\n",
       "    </tr>\n",
       "  </tbody>\n",
       "</table>\n"
      ],
      "text/plain": [
       "<pandas.io.formats.style.Styler at 0x2463b26ea80>"
      ]
     },
     "metadata": {},
     "output_type": "display_data"
    },
    {
     "name": "stdout",
     "output_type": "stream",
     "text": [
      "\n",
      "+------------------------------------------------------------------------------+\n",
      "\n",
      "2. Revenue Growth Rate:\n"
     ]
    },
    {
     "data": {
      "text/html": [
       "<style type=\"text/css\">\n",
       "#T_7fb9d_row0_col0 {\n",
       "  background-color: #034e7b;\n",
       "  color: #f1f1f1;\n",
       "}\n",
       "#T_7fb9d_row0_col1 {\n",
       "  background-color: #a7bddb;\n",
       "  color: #000000;\n",
       "}\n",
       "#T_7fb9d_row0_col2 {\n",
       "  background-color: #04639b;\n",
       "  color: #f1f1f1;\n",
       "}\n",
       "#T_7fb9d_row0_col3 {\n",
       "  background-color: #ede7f2;\n",
       "  color: #000000;\n",
       "}\n",
       "#T_7fb9d_row1_col0 {\n",
       "  background-color: #328dbf;\n",
       "  color: #f1f1f1;\n",
       "}\n",
       "#T_7fb9d_row1_col1 {\n",
       "  background-color: #69a5cc;\n",
       "  color: #f1f1f1;\n",
       "}\n",
       "#T_7fb9d_row1_col2, #T_7fb9d_row2_col0, #T_7fb9d_row2_col1, #T_7fb9d_row2_col3 {\n",
       "  background-color: #023858;\n",
       "  color: #f1f1f1;\n",
       "}\n",
       "#T_7fb9d_row1_col3 {\n",
       "  background-color: #94b6d7;\n",
       "  color: #000000;\n",
       "}\n",
       "#T_7fb9d_row2_col2 {\n",
       "  background-color: #045a8d;\n",
       "  color: #f1f1f1;\n",
       "}\n",
       "#T_7fb9d_row3_col0 {\n",
       "  background-color: #308cbe;\n",
       "  color: #f1f1f1;\n",
       "}\n",
       "#T_7fb9d_row3_col1 {\n",
       "  background-color: #79abd0;\n",
       "  color: #f1f1f1;\n",
       "}\n",
       "#T_7fb9d_row3_col2 {\n",
       "  background-color: #04598c;\n",
       "  color: #f1f1f1;\n",
       "}\n",
       "#T_7fb9d_row3_col3 {\n",
       "  background-color: #1c7fb8;\n",
       "  color: #f1f1f1;\n",
       "}\n",
       "#T_7fb9d_row4_col0, #T_7fb9d_row4_col1, #T_7fb9d_row4_col2, #T_7fb9d_row4_col3 {\n",
       "  background-color: #fff7fb;\n",
       "  color: #000000;\n",
       "}\n",
       "</style>\n",
       "<table id=\"T_7fb9d\">\n",
       "  <thead>\n",
       "    <tr>\n",
       "      <th class=\"index_name level0\" >sales_method</th>\n",
       "      <th id=\"T_7fb9d_level0_col0\" class=\"col_heading level0 col0\" >Call</th>\n",
       "      <th id=\"T_7fb9d_level0_col1\" class=\"col_heading level0 col1\" >Email</th>\n",
       "      <th id=\"T_7fb9d_level0_col2\" class=\"col_heading level0 col2\" >Email + Call</th>\n",
       "      <th id=\"T_7fb9d_level0_col3\" class=\"col_heading level0 col3\" >Total</th>\n",
       "    </tr>\n",
       "    <tr>\n",
       "      <th class=\"index_name level0\" >week</th>\n",
       "      <th class=\"blank col0\" >&nbsp;</th>\n",
       "      <th class=\"blank col1\" >&nbsp;</th>\n",
       "      <th class=\"blank col2\" >&nbsp;</th>\n",
       "      <th class=\"blank col3\" >&nbsp;</th>\n",
       "    </tr>\n",
       "  </thead>\n",
       "  <tbody>\n",
       "    <tr>\n",
       "      <th id=\"T_7fb9d_level0_row0\" class=\"row_heading level0 row0\" >2</th>\n",
       "      <td id=\"T_7fb9d_row0_col0\" class=\"data row0 col0\" >0.31</td>\n",
       "      <td id=\"T_7fb9d_row0_col1\" class=\"data row0 col1\" >-0.40</td>\n",
       "      <td id=\"T_7fb9d_row0_col2\" class=\"data row0 col2\" >0.60</td>\n",
       "      <td id=\"T_7fb9d_row0_col3\" class=\"data row0 col3\" >-0.27</td>\n",
       "    </tr>\n",
       "    <tr>\n",
       "      <th id=\"T_7fb9d_level0_row1\" class=\"row_heading level0 row1\" >3</th>\n",
       "      <td id=\"T_7fb9d_row1_col0\" class=\"data row1 col0\" >0.07</td>\n",
       "      <td id=\"T_7fb9d_row1_col1\" class=\"data row1 col1\" >-0.28</td>\n",
       "      <td id=\"T_7fb9d_row1_col2\" class=\"data row1 col2\" >0.75</td>\n",
       "      <td id=\"T_7fb9d_row1_col3\" class=\"data row1 col3\" >-0.07</td>\n",
       "    </tr>\n",
       "    <tr>\n",
       "      <th id=\"T_7fb9d_level0_row2\" class=\"row_heading level0 row2\" >4</th>\n",
       "      <td id=\"T_7fb9d_row2_col0\" class=\"data row2 col0\" >0.38</td>\n",
       "      <td id=\"T_7fb9d_row2_col1\" class=\"data row2 col1\" >0.09</td>\n",
       "      <td id=\"T_7fb9d_row2_col2\" class=\"data row2 col2\" >0.64</td>\n",
       "      <td id=\"T_7fb9d_row2_col3\" class=\"data row2 col3\" >0.30</td>\n",
       "    </tr>\n",
       "    <tr>\n",
       "      <th id=\"T_7fb9d_level0_row3\" class=\"row_heading level0 row3\" >5</th>\n",
       "      <td id=\"T_7fb9d_row3_col0\" class=\"data row3 col0\" >0.08</td>\n",
       "      <td id=\"T_7fb9d_row3_col1\" class=\"data row3 col1\" >-0.31</td>\n",
       "      <td id=\"T_7fb9d_row3_col2\" class=\"data row3 col2\" >0.65</td>\n",
       "      <td id=\"T_7fb9d_row3_col3\" class=\"data row3 col3\" >0.10</td>\n",
       "    </tr>\n",
       "    <tr>\n",
       "      <th id=\"T_7fb9d_level0_row4\" class=\"row_heading level0 row4\" >6</th>\n",
       "      <td id=\"T_7fb9d_row4_col0\" class=\"data row4 col0\" >-0.47</td>\n",
       "      <td id=\"T_7fb9d_row4_col1\" class=\"data row4 col1\" >-0.69</td>\n",
       "      <td id=\"T_7fb9d_row4_col2\" class=\"data row4 col2\" >-0.11</td>\n",
       "      <td id=\"T_7fb9d_row4_col3\" class=\"data row4 col3\" >-0.35</td>\n",
       "    </tr>\n",
       "  </tbody>\n",
       "</table>\n"
      ],
      "text/plain": [
       "<pandas.io.formats.style.Styler at 0x2463b2742f0>"
      ]
     },
     "metadata": {},
     "output_type": "display_data"
    },
    {
     "name": "stdout",
     "output_type": "stream",
     "text": [
      "\n",
      "+------------------------------------------------------------------------------+\n",
      "\n"
     ]
    }
   ],
   "source": [
    "print(\"1. Average Revenue per Customer:\")\n",
    "display(avg_revenue_per_customer.style.background_gradient(axis=0).format(precision=2))\n",
    "sep()\n",
    "print(\"2. Revenue Growth Rate:\")\n",
    "display(growth_rate.style.background_gradient(axis=0).format(precision=2))\n",
    "sep()"
   ]
  },
  {
   "cell_type": "markdown",
   "id": "21a650d6-27bf-438d-a335-9bb0705e4a50",
   "metadata": {},
   "source": [
    "### **Definition of Metrics for the Business to Monitor**\n",
    "\n",
    "\n",
    "1. **Average Revenue per Customer**\n",
    "1. **Revenue Growth Rate**\n",
    "\n",
    "#### 1. **Average Revenue per Customer**\n",
    "\n",
    "- **Description:** Measures the average revenue generated from each customer, providing insight into the effectiveness of each sales approach.\n",
    "- **Formula:** \n",
    "  $$\\text{Average Revenue per Customer} = \\frac{\\text{Total Revenue}}{\\text{Number of Customers}}$$\n",
    "- **Monitoring:** Track this weekly for each sales method to understand customer value over time.\n",
    "- Initial values for `Call`, `Email`, and `Email + Call` are **\\$66.31, \\$129.38, \\$223.98** respectively.\n",
    "\n",
    "#### 2. **Revenue Growth Rate**\n",
    "\n",
    "- **Description:** Indicates the rate at which revenue is increasing or decreasing over time, helping to assess the success of sales methods and identify trends.\n",
    "- **Formula:**\n",
    "  $$\\text{Revenue Growth Rate} = \\frac{\\text{Revenue in Current Period}}{\\text{Revenue in Previous Period}} -1\\$$\n",
    "- **Monitoring:** Monitor this weekly to observe revenue trends and adjust strategies accordingly.\n",
    "- The metric magnitude reflects the severity of the trend, and the sign indicates whether it is beneficial for the firm.\n",
    "- Current values for `Call`, `Email`, and `Email + Call` are **-0.47, -0.69, -0.11** respectively, indicate that a severe decline in `Call` and `Email` methods revenue with slight decline in `Call + Email` method.\n",
    "\n",
    "---"
   ]
  },
  {
   "cell_type": "markdown",
   "id": "ff9157a7-f513-47be-ae2c-838c72908073",
   "metadata": {},
   "source": [
    "## Final summary including recommendations that the business should undertake"
   ]
  },
  {
   "cell_type": "markdown",
   "id": "bbc4284d-7329-4e82-b46c-01a4fcdcb524",
   "metadata": {},
   "source": [
    "### **Final Summary**\n",
    "The analysis of the sales data revealed several key insights:\n",
    "\n",
    "1. **Sales Methods Performance**:\n",
    "   - **Email Only**: Generated the highest number of customers (7,466) and had a consistent average revenue per customer of approximately (\\$97.4). However, the revenue growth was inconsistent, with a notable decline after the initial weeks.\n",
    "   - **Call Only**: Attracted (4,962) customers with an average revenue per customer of (\\$47.6). This method exhibited steady performance with consistent growth, especially in weeks 4 and 5. However, it had the lowest average revenue compared to the other methods.\n",
    "   - **Email + Call**: Although it reached the fewest customers (2,572), it achieved the highest average revenue per customer at (\\$183.3). The revenue from this method grew consistently over the weeks, peaking in week 5. This method combines the personalized engagement of calls with the efficiency of emails.\n",
    "\n",
    "1. **Revenue Distribution**:\n",
    "   - The revenue distribution is positively skewed, indicating that while most transactions are of lower value, there are significant high-value outliers. The Email + Call method contributed most to the higher revenue figures.\n",
    "\n",
    "1. **Trends Over Time**:\n",
    "   - Revenue generally increased for `Call` and `Email + Call` methods during the first five weeks, with a noticeable drop in week 6 across all methods. This suggests potential external factors or seasonality impacting revenue in the final week.\n",
    "\n",
    "1. **Imputation and Data Cleaning**:\n",
    "   - The missing revenue data (7.16%) was successfully imputed using MICE. \n",
    "   - Inconsistent entries in the `sales_method` and `years_as_customer` columns were corrected, ensuring the data was accurate for analysis.\n",
    "\n",
    "1. **Metrics**:\n",
    "    1. **Average Revenue per Customer**: to assess the effetiveness of the sales method.\n",
    "    2. **Revenue Growth Rate**: to assess the success of sales method and identify trends.\n",
    "\n",
    "### **Recommendations**\n",
    "   - **Focus on the Email + Call Method**: This method yields the highest average revenue and total revenue growth. Despite requiring more time from the team, the significant return on investment justifies its continued use. Optimizing the process to reduce time per interaction could further enhance its effectiveness.\n",
    "\n",
    "### **Further Investigation**:\n",
    "   - **Analyze Week 6 Decline**: Investigate the factors leading to the revenue drop in week 6 across all methods. Understanding this decline could help mitigate similar issues in future campaigns.\n",
    "\n",
    "---"
   ]
  }
 ],
 "metadata": {
  "colab": {
   "name": "Welcome to DataCamp Workspaces.ipynb",
   "provenance": []
  },
  "kernelspec": {
   "display_name": "Python 3 (ipykernel)",
   "language": "python",
   "name": "python3"
  },
  "language_info": {
   "codemirror_mode": {
    "name": "ipython",
    "version": 3
   },
   "file_extension": ".py",
   "mimetype": "text/x-python",
   "name": "python",
   "nbconvert_exporter": "python",
   "pygments_lexer": "ipython3",
   "version": "3.12.4"
  }
 },
 "nbformat": 4,
 "nbformat_minor": 5
}
